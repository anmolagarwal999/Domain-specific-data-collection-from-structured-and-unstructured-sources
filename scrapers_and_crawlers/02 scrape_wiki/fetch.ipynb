{
 "cells": [
  {
   "cell_type": "code",
   "execution_count": null,
   "metadata": {},
   "outputs": [],
   "source": [
    "import os\n",
    "import json\n",
    "import wptools\n",
    "from copy import deepcopy"
   ]
  },
  {
   "cell_type": "code",
   "execution_count": null,
   "metadata": {},
   "outputs": [],
   "source": [
    "!ls .."
   ]
  },
  {
   "cell_type": "code",
   "execution_count": null,
   "metadata": {},
   "outputs": [],
   "source": [
    "with open(\"../EXTRA_NAMES_LIST.json\",'r') as fd:\n",
    "    curr_lines=json.load(fd)['extra_names']"
   ]
  },
  {
   "cell_type": "code",
   "execution_count": null,
   "metadata": {},
   "outputs": [],
   "source": [
    "len(curr_lines)"
   ]
  },
  {
   "cell_type": "code",
   "execution_count": null,
   "metadata": {},
   "outputs": [],
   "source": [
    "df=[]\n",
    "error_list=[]"
   ]
  },
  {
   "cell_type": "code",
   "execution_count": null,
   "metadata": {
    "scrolled": true
   },
   "outputs": [],
   "source": [
    "tot_elem=0\n",
    "failure_cnt=0\n",
    "inner_freq=dict()\n",
    "newness=0\n",
    "\n",
    "# going through all names scraped\n",
    "for curr_name in curr_lines:\n",
    "    tot_elem+=1\n",
    "    \n",
    "    # try to find a page for the \"name\"\n",
    "    page = wptools.page(curr_name)\n",
    "    #print(page)\n",
    "    try:\n",
    "        # fetch all keys\n",
    "        ####################################\n",
    "        page.get()\n",
    "        curr_dict=deepcopy(page.data)\n",
    "        #########################################\n",
    "        ####################################\n",
    "        page.get_more()\n",
    "        for curr_key in page.data:\n",
    "            if curr_key not in curr_dict:\n",
    "                curr_dict[curr_key]=page.data[curr_key]\n",
    "                #print(\"New key is \", curr_key)\n",
    "                newness+=1\n",
    "        #########################################\n",
    "        for curr_key in curr_dict:\n",
    "            if curr_key in inner_freq:\n",
    "                inner_freq[curr_key]+=1\n",
    "            else:\n",
    "                inner_freq[curr_key]=1 \n",
    "        curr_dict['ire_person_name']=curr_name\n",
    "        df.append(deepcopy(curr_dict))\n",
    "        \n",
    "    except Exception as E:\n",
    "        failure_cnt+=1\n",
    "        error_list.append((curr_name, E))\n",
    "        print(\"Exception is \",E)\n",
    "        print(\"SOme error occured while finding \",curr_name)\n",
    "    \n",
    "    #take data backup at regular intervals\n",
    "    if tot_elem%100==0:\n",
    "        print(\"tot elem is \", tot_elem)\n",
    "        with open(\"extra_wiki_all_data.json\",'w') as fd:\n",
    "            json.dump({'done_cnt':tot_elem, 'error_list':error_list,\"failure_cnt\":failure_cnt,'attr_freq':inner_freq,'data':df}, fd, indent=4)"
   ]
  },
  {
   "cell_type": "code",
   "execution_count": null,
   "metadata": {},
   "outputs": [],
   "source": [
    "tot_elem"
   ]
  },
  {
   "cell_type": "code",
   "execution_count": null,
   "metadata": {},
   "outputs": [],
   "source": [
    "with open(\"extra_wiki_all_data.json\",'w') as fd:\n",
    "            json.dump({'done_cnt':tot_elem, 'error_list':error_list,\"failure_cnt\":failure_cnt,'attr_freq':inner_freq,'data':df}, fd, indent=4)"
   ]
  },
  {
   "cell_type": "code",
   "execution_count": null,
   "metadata": {},
   "outputs": [],
   "source": []
  }
 ],
 "metadata": {
  "kernelspec": {
   "display_name": "Python 3",
   "language": "python",
   "name": "python3"
  },
  "language_info": {
   "codemirror_mode": {
    "name": "ipython",
    "version": 3
   },
   "file_extension": ".py",
   "mimetype": "text/x-python",
   "name": "python",
   "nbconvert_exporter": "python",
   "pygments_lexer": "ipython3",
   "version": "3.7.6"
  }
 },
 "nbformat": 4,
 "nbformat_minor": 4
}
