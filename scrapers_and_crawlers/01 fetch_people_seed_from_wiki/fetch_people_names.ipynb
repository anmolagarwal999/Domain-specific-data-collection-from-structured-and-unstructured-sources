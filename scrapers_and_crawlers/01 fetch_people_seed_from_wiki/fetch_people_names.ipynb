{
 "cells": [
  {
   "cell_type": "code",
   "execution_count": 2,
   "metadata": {},
   "outputs": [],
   "source": [
    "# Setup\n",
    "import os\n",
    "\n",
    "from bs4 import BeautifulSoup\n",
    "import requests"
   ]
  },
  {
   "cell_type": "code",
   "execution_count": 3,
   "metadata": {},
   "outputs": [],
   "source": [
    "# main_url if we want to scrape only single page, whereas main_urls if we want to scrape all those pages\n",
    "\n",
    "main_url = \"https://en.wikipedia.org/wiki/List_of_computer_scientists\"\n",
    "\n",
    "main_urls = [\n",
    "    \"https://en.wikipedia.org/wiki/Category:Computer_scientists\",\n",
    "    \"https://en.wikipedia.org/wiki/Category:Indian_computer_scientists\",\n",
    "    \"https://en.wikipedia.org/wiki/Category:Indian_women_computer_scientists\",\n",
    "    \"https://en.wikipedia.org/wiki/Category:American_computer_scientists\",\n",
    "    \"https://en.wikipedia.org/w/index.php?title=Category:American_computer_scientists&pagefrom=Camp%2C+Tracy+Kay%0ATracy+Camp#mw-pages\",\n",
    "    \"https://en.wikipedia.org/w/index.php?title=Category:American_computer_scientists&pagefrom=Eppstein%2C+David%0ADavid+Eppstein#mw-pages\",\n",
    "    \"https://en.wikipedia.org/w/index.php?title=Category:American_computer_scientists&pagefrom=Gurkewitz%2C+Rona%0ARona+Gurkewitz#mw-pages\",\n",
    "    \"https://en.wikipedia.org/w/index.php?title=Category:American_computer_scientists&pagefrom=Kaufmann%2C+Matt%0AMatt+Kaufmann#mw-pages\",\n",
    "    \"https://en.wikipedia.org/w/index.php?title=Category:American_computer_scientists&pagefrom=Martin%2C+William+A%0AWilliam+A.+Martin#mw-pages\",\n",
    "    \"https://en.wikipedia.org/w/index.php?title=Category:American_computer_scientists&pagefrom=Padlipsky%2C+Michael+A.%0AMichael+A.+Padlipsky#mw-pages\",\n",
    "    \"https://en.wikipedia.org/w/index.php?title=Category:American_computer_scientists&pagefrom=Schwartz%2C+Jules%0AJules+Schwartz#mw-pages\",\n",
    "    \"https://en.wikipedia.org/w/index.php?title=Category:American_computer_scientists&pagefrom=Trower%2C+Tandy%0ATandy+Trower#mw-pages\",\n",
    "    \"https://en.wikipedia.org/wiki/Category:Theoretical_computer_scientists\",\n",
    "    \"https://en.wikipedia.org/w/index.php?title=Category:Theoretical_computer_scientists&pagefrom=Saks%2C+Michael%0AMichael+Saks+%28mathematician%29#mw-pages \",\n",
    "    \"https://en.wikipedia.org/wiki/Category:Artificial_intelligence_researchers\",\n",
    "    \"https://en.wikipedia.org/w/index.php?title=Category:Artificial_intelligence_researchers&pagefrom=Lehmann%2C+Jens%0AJens+Lehmann+%28scientist%29#mw-pages \",\n",
    "    \"https://en.wikipedia.org/wiki/Category:Machine_learning_researchers\",\n",
    "    \"https://en.wikipedia.org/wiki/Category:Coding_theorists\",\n",
    "    \"https://en.wikipedia.org/wiki/Category:Computer_security_academics\",\n",
    "    \"https://en.wikipedia.org/wiki/Category:Computational_linguistics_researchers\",\n",
    "    \"https://en.wikipedia.org/wiki/Category:Cryptographers\",\n",
    "    \"https://en.wikipedia.org/wiki/Category:Database_researchers\",\n",
    "    \"https://en.wikipedia.org/wiki/Category:Researchers_in_distributed_computing\",\n",
    "    \"https://en.wikipedia.org/wiki/Category:Computer_graphics_researchers\",\n",
    "    \"https://en.wikipedia.org/wiki/Category:Computer_hardware_researchers\",\n",
    "    \"https://en.wikipedia.org/wiki/Category:Human%E2%80%93computer_interaction_researchers\",\n",
    "    \"https://en.wikipedia.org/wiki/Category:Information_retrieval_researchers\",\n",
    "    \"https://en.wikipedia.org/wiki/Category:Information_systems_researchers\",\n",
    "    \"https://en.wikipedia.org/wiki/Category:Information_theorists\",\n",
    "    \"https://en.wikipedia.org/wiki/Category:Information_visualization_experts\",\n",
    "    \"https://en.wikipedia.org/wiki/Category:Programming_language_researchers\",\n",
    "    \"https://en.wikipedia.org/wiki/Category:Quantum_information_scientists\",\n",
    "    \"https://en.wikipedia.org/wiki/Category:Scientific_computing_researchers\",\n",
    "    \"https://en.wikipedia.org/wiki/Category:Social_computing_researchers\",\n",
    "    \"https://en.wikipedia.org/wiki/Category:Software_engineering_researchers\",\n",
    "    \"https://en.wikipedia.org/wiki/Category:Software_testing_people\",\n",
    "    \"https://en.wikipedia.org/wiki/Category:Computer_systems_researchers\",\n",
    "    \"https://en.wikipedia.org/wiki/Category:Theoretical_computer_scientists\",\n",
    "    \"https://en.wikipedia.org/w/index.php?title=Category:Theoretical_computer_scientists&pagefrom=Saks%2C+Michael%0AMichael+Saks+%28mathematician%29#mw-pages \",\n",
    "    \"https://en.wikipedia.org/wiki/Category:Ubiquitous_computing_researchers\",\n",
    "    \"https://en.wikipedia.org/wiki/Category:Computer_vision_researchers\",\n",
    "    \"https://en.wikipedia.org/wiki/Category:Indian_computer_scientists \",\n",
    "]\n"
   ]
  },
  {
   "cell_type": "code",
   "execution_count": 4,
   "metadata": {},
   "outputs": [],
   "source": [
    "# returns the person list in that page\n",
    "def get_items(soup, is_main_url = False):\n",
    "    if is_main_url:\n",
    "        return soup.select(\"h2 + ul > li\")\n",
    "\n",
    "    return soup.select(\"#mw-pages h3 + ul > li\")"
   ]
  },
  {
   "cell_type": "code",
   "execution_count": 5,
   "metadata": {},
   "outputs": [],
   "source": [
    "items = []"
   ]
  },
  {
   "cell_type": "code",
   "execution_count": 6,
   "metadata": {},
   "outputs": [],
   "source": [
    "def get_filename(soup):\n",
    "  title = soup.select_one('title').getText()\n",
    "  return 'data/' + title"
   ]
  },
  {
   "cell_type": "code",
   "execution_count": 7,
   "metadata": {},
   "outputs": [],
   "source": [
    "# fetches all data on the page given by url\n",
    "page_data = requests.get(\n",
    "    main_url,\n",
    "    headers={\n",
    "        \"User-Agent\": \"Mozilla/5.0 (X11; Linux x86_64) AppleWebKit/537.36 (KHTML, like Gecko) Chrome/94.0.4606.81 Safari/537.36\"\n",
    "    },\n",
    ").text\n",
    "# User-Agent header is added to avoid Captcha\n",
    "soup = BeautifulSoup(page_data, features=\"html.parser\")\n",
    "\n",
    "items.append({'filename': get_filename(soup)})\n",
    "items.extend(get_items(soup, True))\n"
   ]
  },
  {
   "cell_type": "code",
   "execution_count": 8,
   "metadata": {},
   "outputs": [
    {
     "name": "stdout",
     "output_type": "stream",
     "text": [
      "data/Category:Computer scientists - Wikipedia: 200\n",
      "data/Category:Indian computer scientists - Wikipedia: 123\n",
      "data/Category:Indian women computer scientists - Wikipedia: 14\n",
      "data/Category:American computer scientists - Wikipedia: 200\n",
      "data/Category:American computer scientists - Wikipedia: 200\n",
      "data/Category:American computer scientists - Wikipedia: 200\n",
      "data/Category:American computer scientists - Wikipedia: 200\n",
      "data/Category:American computer scientists - Wikipedia: 200\n",
      "data/Category:American computer scientists - Wikipedia: 200\n",
      "data/Category:American computer scientists - Wikipedia: 200\n",
      "data/Category:American computer scientists - Wikipedia: 200\n",
      "data/Category:American computer scientists - Wikipedia: 193\n",
      "data/Category:Theoretical computer scientists - Wikipedia: 200\n",
      "data/Category:Theoretical computer scientists - Wikipedia: 67\n",
      "data/Category:Artificial intelligence researchers - Wikipedia: 200\n",
      "data/Category:Artificial intelligence researchers - Wikipedia: 188\n",
      "data/Category:Machine learning researchers - Wikipedia: 133\n",
      "data/Category:Coding theorists - Wikipedia: 19\n",
      "data/Category:Computer security academics - Wikipedia: 73\n",
      "data/Category:Computational linguistics researchers - Wikipedia: 77\n",
      "data/Category:Cryptographers - Wikipedia: 3\n",
      "data/Category:Database researchers - Wikipedia: 63\n",
      "data/Category:Researchers in distributed computing - Wikipedia: 61\n",
      "data/Category:Computer graphics researchers - Wikipedia: 67\n",
      "data/Category:Computer hardware researchers - Wikipedia: 10\n",
      "data/Category:Human–computer interaction researchers - Wikipedia: 141\n",
      "data/Category:Information retrieval researchers - Wikipedia: 15\n",
      "data/Category:Information systems researchers - Wikipedia: 115\n",
      "data/Category:Information theorists - Wikipedia: 22\n",
      "data/Category:Information visualization experts - Wikipedia: 79\n",
      "data/Category:Programming language researchers - Wikipedia: 99\n",
      "data/Category:Quantum information scientists - Wikipedia: 61\n",
      "data/Category:Scientific computing researchers - Wikipedia: 37\n",
      "data/Category:Social computing researchers - Wikipedia: 2\n",
      "data/Category:Software engineering researchers - Wikipedia: 74\n",
      "data/Category:Software testing people - Wikipedia: 17\n",
      "data/Category:Computer systems researchers - Wikipedia: 59\n",
      "data/Category:Theoretical computer scientists - Wikipedia: 200\n",
      "data/Category:Theoretical computer scientists - Wikipedia: 67\n",
      "data/Category:Ubiquitous computing researchers - Wikipedia: 20\n",
      "data/Category:Computer vision researchers - Wikipedia: 69\n",
      "data/Category:Indian computer scientists - Wikipedia: 123\n"
     ]
    }
   ],
   "source": [
    "# add all the persons in all the URLs to items\n",
    "for url in main_urls:\n",
    "    # fetches all data on the page given by url\n",
    "    page_data = requests.get(\n",
    "        url,\n",
    "        headers={\n",
    "            \"User-Agent\": \"Mozilla/5.0 (X11; Linux x86_64) AppleWebKit/537.36 (KHTML, like Gecko) Chrome/94.0.4606.81 Safari/537.36\"\n",
    "        },\n",
    "    ).text\n",
    "    # User-Agent header is added to avoid Captcha\n",
    "    soup = BeautifulSoup(page_data, features=\"html.parser\")\n",
    "\n",
    "    url_filename = get_filename(soup)\n",
    "    url_items = get_items(soup)\n",
    "\n",
    "    print(url_filename + ':', len(url_items))\n",
    "\n",
    "    items.append({'filename': url_filename})\n",
    "    items.extend(url_items)\n"
   ]
  },
  {
   "cell_type": "code",
   "execution_count": 9,
   "metadata": {},
   "outputs": [
    {
     "name": "stdout",
     "output_type": "stream",
     "text": [
      "5182\n"
     ]
    }
   ],
   "source": [
    "print(len(items))\n",
    "urls = []\n",
    "names = []\n",
    "unique_names = set()"
   ]
  },
  {
   "cell_type": "code",
   "execution_count": 10,
   "metadata": {},
   "outputs": [],
   "source": [
    "def get_data():\n",
    "  file = None\n",
    "\n",
    "  # for each person, get the name and URL to dedicated wiki page (if exits)\n",
    "  for item in items:\n",
    "      if 'filename' in item:\n",
    "          file = open(item['filename'], 'a')\n",
    "          continue\n",
    "\n",
    "      link = item.select_one(\"a:not(.new)\")\n",
    "      if not link:\n",
    "          continue\n",
    "\n",
    "      url = link['href']\n",
    "      name = link.getText()\n",
    "\n",
    "      urls.append(url)\n",
    "      names.append(name)\n",
    "      unique_names.add(name)\n",
    "\n",
    "      file.write(name + '\\n')\n",
    "\n",
    "  file = open('unique', 'w')\n",
    "  for name in unique_names:\n",
    "      file.write(name + '\\n')"
   ]
  },
  {
   "cell_type": "code",
   "execution_count": 11,
   "metadata": {},
   "outputs": [],
   "source": [
    "get_data()"
   ]
  },
  {
   "cell_type": "code",
   "execution_count": 12,
   "metadata": {},
   "outputs": [
    {
     "name": "stdout",
     "output_type": "stream",
     "text": [
      "3465\n",
      "5138\n",
      "['Wil van der Aalst', 'Scott Aaronson', 'Rediet Abebe', 'Hal Abelson', 'Serge Abiteboul', 'Samson Abramsky', 'Leonard Adleman', 'Manindra Agrawal', 'Luis von Ahn', 'Alfred Aho']\n",
      "['/wiki/Wil_van_der_Aalst', '/wiki/Scott_Aaronson', '/wiki/Rediet_Abebe', '/wiki/Hal_Abelson', '/wiki/Serge_Abiteboul', '/wiki/Samson_Abramsky', '/wiki/Leonard_Adleman', '/wiki/Manindra_Agrawal', '/wiki/Luis_von_Ahn', '/wiki/Alfred_Aho']\n"
     ]
    }
   ],
   "source": [
    "print(len(unique_names))\n",
    "print(len(urls))\n",
    "print(names[:10])\n",
    "print(urls[:10])\n"
   ]
  }
 ],
 "metadata": {
  "interpreter": {
   "hash": "096d4e12d22d95b8623339569be1e2fd552a10e21c2d2575b937e1089444ef8e"
  },
  "kernelspec": {
   "display_name": "Python 3",
   "language": "python",
   "name": "python3"
  },
  "language_info": {
   "codemirror_mode": {
    "name": "ipython",
    "version": 3
   },
   "file_extension": ".py",
   "mimetype": "text/x-python",
   "name": "python",
   "nbconvert_exporter": "python",
   "pygments_lexer": "ipython3",
   "version": "3.8.10"
  }
 },
 "nbformat": 4,
 "nbformat_minor": 2
}
