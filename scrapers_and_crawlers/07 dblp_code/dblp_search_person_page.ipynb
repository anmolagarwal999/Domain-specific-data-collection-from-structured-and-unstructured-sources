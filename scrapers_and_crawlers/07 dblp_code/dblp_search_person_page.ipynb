{
 "cells": [
  {
   "cell_type": "markdown",
   "metadata": {},
   "source": [
    "#### To find dblp Profile Page for each person"
   ]
  },
  {
   "cell_type": "code",
   "execution_count": 1,
   "metadata": {},
   "outputs": [],
   "source": [
    "import os\n",
    "import json\n",
    "import re\n",
    "from copy import deepcopy"
   ]
  },
  {
   "cell_type": "code",
   "execution_count": 2,
   "metadata": {},
   "outputs": [],
   "source": [
    "def fetch_purified_name(person_name):\n",
    "    # eliminates text within brackets : Eg = changes Lawrence Page (Founder) to -> Lawrence Page\n",
    "    # strips spaces\n",
    "    # keeps only letters and spaces\n",
    "    # changes name to lower case    \n",
    "    \n",
    "    final_name=\"\"\n",
    "    open_bracket=False\n",
    "    for curr_ch in person_name:\n",
    "        if curr_ch=='(':\n",
    "            open_bracket=True\n",
    "        elif curr_ch==')':\n",
    "            open_bracket=False\n",
    "        else:\n",
    "            if not open_bracket:\n",
    "                final_name+=curr_ch\n",
    "    person_name=final_name.rstrip()\n",
    "    person_name=person_name.lstrip()\n",
    "    person_name = re.sub('[^a-zA-Z.\\d\\s]', '', person_name)\n",
    "    person_name=person_name.lower()\n",
    "    return person_name"
   ]
  },
  {
   "cell_type": "code",
   "execution_count": 3,
   "metadata": {},
   "outputs": [],
   "source": [
    "def fetch_search_url(person_name):\n",
    "    person_name=fetch_purified_name(person_name)\n",
    "    person_name=person_name.replace(\" \",\"%20\")\n",
    "    base_url=f\"https://dblp.org/search/author/api?q={person_name}&format=json\"\n",
    "    #print(base_url)\n",
    "    return base_url"
   ]
  },
  {
   "cell_type": "code",
   "execution_count": 4,
   "metadata": {},
   "outputs": [],
   "source": [
    "def resolve_multiple_results(person_name, results_arr):\n",
    "    \n",
    "    # fetch person's purified name\n",
    "    person_name=fetch_purified_name(person_name)\n",
    "    \n",
    "    # break purified name into tokens\n",
    "    original_tokens=person_name.split(\" \")\n",
    "    num_original_tokens=len(original_tokens)\n",
    "    \n",
    "    \n",
    "    extra_dict={}\n",
    "    for idx, curr_result in enumerate(results_arr):\n",
    "        his_name=fetch_purified_name(curr_result['info']['author'])\n",
    "        \n",
    "        found=0\n",
    "        \n",
    "        # tokenized name of candidate\n",
    "        curr_tokens=his_name.split(' ')\n",
    "        \n",
    "        # check how many tokens in the original name are there in the candidate name\n",
    "        for want_token in original_tokens:\n",
    "            if want_token in curr_tokens:\n",
    "                found+=1\n",
    "                \n",
    "        # if all tokens are there, then all is well\n",
    "        if found==num_original_tokens:\n",
    "            if len(curr_tokens) not in extra_dict:\n",
    "                extra_dict[len(curr_tokens)]=[]\n",
    "        \n",
    "        \n",
    "        # anyways store a dict with \"key\" as number of matched tokens and value as index of candidate\n",
    "        extra_dict[len(curr_tokens)].append(idx)\n",
    "        \n",
    "    # check if it was possible for all tokens to get matched\n",
    "    if num_original_tokens in extra_dict:\n",
    "        # if there was JUST one such name\n",
    "        if len(extra_dict[num_original_tokens])==1:\n",
    "            return True, results_arr[extra_dict[num_original_tokens][0]]\n",
    "    else:\n",
    "        # it was not possible for all tokens to get matched, hence alias not found\n",
    "        return False, results_arr     "
   ]
  },
  {
   "cell_type": "code",
   "execution_count": 5,
   "metadata": {},
   "outputs": [],
   "source": [
    "test_name=\"ponnurangam kumaraguru\""
   ]
  },
  {
   "cell_type": "code",
   "execution_count": 6,
   "metadata": {
    "scrolled": true
   },
   "outputs": [
    {
     "name": "stdout",
     "output_type": "stream",
     "text": [
      "{'result': {'query': 'ponnurangam* kumaraguru*', 'status': {'@code': '200', 'text': 'OK'}, 'time': {'@unit': 'msecs', 'text': '0.86'}, 'completions': {'@total': '1', '@computed': '1', '@sent': '1', 'c': {'@sc': '1', '@dc': '1', '@oc': '1', '@id': '15284030', 'text': 'kumaraguru'}}, 'hits': {'@total': '1', '@computed': '1', '@sent': '1', '@first': '0', 'hit': [{'@score': '3', '@id': '1311788', 'info': {'author': 'Ponnurangam Kumaraguru', 'aliases': {'alias': 'Ponnurangam Kumarguru'}, 'url': 'https://dblp.org/pid/97/5147'}, 'url': 'URL#1311788'}]}}}\n"
     ]
    }
   ],
   "source": [
    "import json,urllib.request\n",
    "data = urllib.request.urlopen(fetch_search_url(test_name)).read()\n",
    "output = json.loads(data)\n",
    "print (output)"
   ]
  },
  {
   "cell_type": "code",
   "execution_count": 7,
   "metadata": {},
   "outputs": [
    {
     "data": {
      "text/plain": [
       "{'@total': '1',\n",
       " '@computed': '1',\n",
       " '@sent': '1',\n",
       " '@first': '0',\n",
       " 'hit': [{'@score': '3',\n",
       "   '@id': '1311788',\n",
       "   'info': {'author': 'Ponnurangam Kumaraguru',\n",
       "    'aliases': {'alias': 'Ponnurangam Kumarguru'},\n",
       "    'url': 'https://dblp.org/pid/97/5147'},\n",
       "   'url': 'URL#1311788'}]}"
      ]
     },
     "execution_count": 7,
     "metadata": {},
     "output_type": "execute_result"
    }
   ],
   "source": [
    "output['result']['hits']"
   ]
  },
  {
   "cell_type": "code",
   "execution_count": 8,
   "metadata": {},
   "outputs": [
    {
     "name": "stdout",
     "output_type": "stream",
     "text": [
      "create_mappings_to_other_databases  EXTRA_NAMES_LIST.json\r\n",
      "dblp_code\t\t\t    fetch_people_seed_from_wiki\r\n",
      "ensure_consistency\t\t    FINAL_NAMES_LIST.json\r\n",
      "explore_wiki_data\t\t    scrape_wiki\r\n"
     ]
    }
   ],
   "source": [
    "!ls .."
   ]
  },
  {
   "cell_type": "code",
   "execution_count": 9,
   "metadata": {},
   "outputs": [],
   "source": [
    "with open(\"../create_mappings_to_other_databases/dblp_mapping.json\",'r') as fd:\n",
    "    seeked_people_df=json.load(fd)"
   ]
  },
  {
   "cell_type": "code",
   "execution_count": 10,
   "metadata": {},
   "outputs": [
    {
     "data": {
      "text/plain": [
       "{'ire_person_name': 'Abraham Silberschatz',\n",
       " 'ire_wiki_id': 0,\n",
       " 'DBLP author ID (P2456)': 's/AbrahamSilberschatz'}"
      ]
     },
     "execution_count": 10,
     "metadata": {},
     "output_type": "execute_result"
    }
   ],
   "source": [
    "seeked_people_df[0]"
   ]
  },
  {
   "cell_type": "code",
   "execution_count": 11,
   "metadata": {},
   "outputs": [],
   "source": [
    "property_name='DBLP author ID (P2456)'"
   ]
  },
  {
   "cell_type": "code",
   "execution_count": 12,
   "metadata": {},
   "outputs": [],
   "source": [
    "error_cnt=0\n",
    "first_aim=0\n",
    "multiple_folks=0\n",
    "heuristic_aim=0"
   ]
  },
  {
   "cell_type": "code",
   "execution_count": 13,
   "metadata": {},
   "outputs": [],
   "source": [
    "file_name=\"dblp_search_results.json\""
   ]
  },
  {
   "cell_type": "code",
   "execution_count": 14,
   "metadata": {},
   "outputs": [],
   "source": [
    "def fetch_trivial_url(dblp_id):\n",
    "    template=f'https://dblp.org/pid/{dblp_id}.html'\n",
    "    return template"
   ]
  },
  {
   "cell_type": "code",
   "execution_count": 15,
   "metadata": {},
   "outputs": [],
   "source": [
    "def save_results():\n",
    "    with open(file_name,'w') as fd:\n",
    "        json.dump({'first_aim':first_aim,'error_cnt':error_cnt,'multiple_folks':multiple_folks,'resolved_multiple':heuristic_aim,'final_result':seeked_people_df}, fd, indent=1,default=str)"
   ]
  },
  {
   "cell_type": "code",
   "execution_count": 16,
   "metadata": {},
   "outputs": [
    {
     "name": "stdout",
     "output_type": "stream",
     "text": [
      "Done idx is  0\n",
      "Done idx is  100\n",
      "Done idx is  200\n",
      "Done idx is  300\n",
      "Done idx is  400\n",
      "Done idx is  500\n",
      "Done idx is  600\n",
      "Done idx is  700\n",
      "Done idx is  800\n",
      "Done idx is  900\n",
      "Done idx is  1000\n",
      "Done idx is  1100\n",
      "Done idx is  1200\n",
      "Done idx is  1300\n",
      "Done idx is  1400\n",
      "Done idx is  1500\n",
      "Done idx is  1600\n",
      "Done idx is  1700\n",
      "Done idx is  1800\n",
      "Done idx is  1900\n",
      "Done idx is  2000\n",
      "Done idx is  2100\n",
      "Done idx is  2200\n",
      "Done idx is  2300\n",
      "Done idx is  2400\n",
      "Done idx is  2500\n",
      "Done idx is  2600\n",
      "Done idx is  2700\n",
      "Done idx is  2800\n",
      "Done idx is  2900\n",
      "Done idx is  3000\n",
      "Done idx is  3100\n",
      "Done idx is  3200\n",
      "Done idx is  3300\n",
      "Done idx is  3400\n"
     ]
    }
   ],
   "source": [
    "#multiple_results=[]\n",
    "#result_arr=[]\n",
    "done_idx=-1\n",
    "for curr_obj in seeked_people_df:\n",
    "    curr_name=curr_obj['ire_person_name']\n",
    "    done_idx+=1\n",
    "    curr_obj['url_use']=None\n",
    "    if curr_obj[property_name]!=None:\n",
    "        curr_obj['url_use']=fetch_trivial_url(curr_obj[property_name])\n",
    "        first_aim+=1\n",
    "    else:\n",
    "        \n",
    "        # fetch url for the search bar\n",
    "        search_url=fetch_search_url(curr_name)\n",
    "        final_data={'person_name':curr_name,'trivial':False}\n",
    "        try:\n",
    "            data = urllib.request.urlopen(search_url).read()\n",
    "            output = json.loads(data)\n",
    "            num_hits=len(output['result']['hits']['hit'])\n",
    "            if num_hits!=1:\n",
    "                #print(\"hits is \", num_hits)\n",
    "                multiple_folks+=1\n",
    "                # try to resolve\n",
    "                final_data['multiple_results']=deepcopy(output['result']['hits']['hit'])\n",
    "                verdict, hope_res=resolve_multiple_results(curr_name,output['result']['hits']['hit'])\n",
    "                if verdict:\n",
    "                    heuristic_aim+=1\n",
    "                    final_data['data']=deepcopy(hope_res)\n",
    "                    #print(\"resolved\")\n",
    "                # unresolved\n",
    "                #multiple_results.append((num_hits, curr_name))\n",
    "\n",
    "            else:\n",
    "                # already perfect\n",
    "                first_aim+=1\n",
    "                final_data['trivial']=True\n",
    "                final_data['data']=output['result']['hits']['hit'][0]\n",
    "            #print(final_data)\n",
    "            curr_obj['url_use']=final_data['data']['info']['url']\n",
    "            #break\n",
    "\n",
    "        except Exception as E:\n",
    "            #print(\"exception is \",E)\n",
    "            error_cnt+=1\n",
    "            #print(json.dumps(output, indent=3))\n",
    "            #errors.append((E, curr_name))\n",
    "            final_data['error']=E\n",
    "            final_data['error_result']=output\n",
    "        curr_obj['search_result']=final_data\n",
    "    if done_idx%100==0:\n",
    "        #break\n",
    "        print(\"Done idx is \", done_idx)\n",
    "        save_results()\n",
    "    #print(\"###############################\")"
   ]
  },
  {
   "cell_type": "code",
   "execution_count": 17,
   "metadata": {},
   "outputs": [],
   "source": [
    "save_results()"
   ]
  },
  {
   "cell_type": "code",
   "execution_count": 18,
   "metadata": {},
   "outputs": [
    {
     "name": "stdout",
     "output_type": "stream",
     "text": [
      "dblp_search_person_page.ipynb  scrape_page_data.ipynb\r\n",
      "dblp_search_results.json       trial_dblp_search_results.json\r\n",
      "parsed_xmls_dblp.json\t       trial_parsed_xmls_dblp.json\r\n"
     ]
    }
   ],
   "source": [
    "!ls"
   ]
  },
  {
   "cell_type": "code",
   "execution_count": null,
   "metadata": {},
   "outputs": [],
   "source": []
  }
 ],
 "metadata": {
  "kernelspec": {
   "display_name": "Python 3",
   "language": "python",
   "name": "python3"
  },
  "language_info": {
   "codemirror_mode": {
    "name": "ipython",
    "version": 3
   },
   "file_extension": ".py",
   "mimetype": "text/x-python",
   "name": "python",
   "nbconvert_exporter": "python",
   "pygments_lexer": "ipython3",
   "version": "3.7.6"
  }
 },
 "nbformat": 4,
 "nbformat_minor": 4
}
