{
 "cells": [
  {
   "cell_type": "markdown",
   "metadata": {},
   "source": [
    "## To scrape data from DBLP profile page"
   ]
  },
  {
   "cell_type": "code",
   "execution_count": 1,
   "metadata": {},
   "outputs": [],
   "source": [
    "import os\n",
    "import json\n",
    "import requests\n",
    "from bs4 import BeautifulSoup\n",
    "from copy import deepcopy"
   ]
  },
  {
   "cell_type": "code",
   "execution_count": 2,
   "metadata": {},
   "outputs": [],
   "source": [
    "file_name=\"dblp_search_results.json\"\n",
    "with open(file_name,'r') as fd:\n",
    "    in_df=json.load(fd)"
   ]
  },
  {
   "cell_type": "code",
   "execution_count": 3,
   "metadata": {},
   "outputs": [],
   "source": [
    "rep_tags=set()"
   ]
  },
  {
   "cell_type": "code",
   "execution_count": 4,
   "metadata": {},
   "outputs": [],
   "source": [
    "def fetch_all_info(r_tag):\n",
    "    main_tag=r_tag.find(recursive=False)\n",
    "    #print(main_tag.name)\n",
    "    main_tag_name=main_tag.name\n",
    "    curr_dict={}\n",
    "    curr_dict['work_type']=main_tag_name\n",
    "    '''for child_tag in main_tag.find_all(recursive=False):\n",
    "        curr_tag_name=child_tag.name\n",
    "        if curr_tag_name in curr_dict:\n",
    "            rep_tags.add(curr_tag_name)\n",
    "            if curr_tag_name=='author':\n",
    "                if curr_tag_name not in curr_dict:\n",
    "                    curr_dict[curr_tag_name]=[]\n",
    "                curr_dict[curr_tag_name].append(child_tag.text)\n",
    "            else:\n",
    "                print(\"Very surprising \", curr_tag_name)\n",
    "        else:\n",
    "            if curr_tag_name=='author':\n",
    "                curr_dict[curr_tag_name]=[child_tag.text]\n",
    "            else:\n",
    "                curr_dict[curr_tag_name]=child_tag.text'''\n",
    "    \n",
    "\n",
    "    for child_tag in main_tag.find_all(recursive=False):\n",
    "        curr_tag_name=child_tag.name\n",
    "        if curr_tag_name in curr_dict:\n",
    "            rep_tags.add(curr_tag_name)\n",
    "            if type(curr_dict[curr_tag_name])!=list:\n",
    "                curr_dict[curr_tag_name]=list(curr_dict[curr_tag_name])\n",
    "            curr_dict[curr_tag_name].append(child_tag.text)\n",
    "        else:\n",
    "            if curr_tag_name=='author':\n",
    "                curr_dict[curr_tag_name]=[child_tag.text]\n",
    "            else:\n",
    "                curr_dict[curr_tag_name]=child_tag.text\n",
    "                \n",
    "    if 'ee' in curr_dict and type(curr_dict['ee'])==list:\n",
    "        curr_dict['ee']=\"\".join(curr_dict['ee'])\n",
    "    return deepcopy(curr_dict)        "
   ]
  },
  {
   "cell_type": "code",
   "execution_count": 5,
   "metadata": {},
   "outputs": [],
   "source": [
    "def save_result():\n",
    "    with open(\"./parsed_xmls_dblp.json\",'w') as fd:\n",
    "        in_df['curr_error_list_while_xml_parse']=unlucky_list\n",
    "        in_df['done_idx']=idx\n",
    "        json.dump(in_df, fd, indent=4,default=str)"
   ]
  },
  {
   "cell_type": "code",
   "execution_count": null,
   "metadata": {},
   "outputs": [],
   "source": []
  },
  {
   "cell_type": "code",
   "execution_count": 6,
   "metadata": {},
   "outputs": [
    {
     "name": "stdout",
     "output_type": "stream",
     "text": [
      "Now\n",
      "0\n",
      "Saving\n",
      "Now\n",
      "200\n",
      "Saving\n",
      "Now\n",
      "400\n",
      "Saving\n",
      "Now\n",
      "600\n",
      "Saving\n",
      "Now\n",
      "800\n",
      "Saving\n",
      "Now\n",
      "1000\n",
      "Saving\n",
      "Now\n",
      "1200\n",
      "Saving\n",
      "Now\n",
      "1400\n",
      "Saving\n",
      "Now\n",
      "1600\n",
      "Saving\n",
      "Now\n",
      "1800\n",
      "Saving\n",
      "Now\n",
      "2000\n",
      "Saving\n",
      "Now\n",
      "2200\n",
      "Saving\n",
      "Now\n",
      "2400\n",
      "Saving\n",
      "Now\n",
      "2600\n",
      "Saving\n",
      "Now\n",
      "2800\n",
      "Saving\n",
      "Now\n",
      "3000\n",
      "Saving\n",
      "Now\n",
      "3200\n",
      "Saving\n",
      "Now\n",
      "3400\n",
      "Saving\n"
     ]
    }
   ],
   "source": [
    "\n",
    "\n",
    "unlucky_list=[]\n",
    "\n",
    "for idx, person in enumerate(in_df['final_result']):\n",
    "    \n",
    "    person['dblp_data']=None\n",
    "    curr_link=person['url_use']\n",
    "    \n",
    "    if curr_link!=None:\n",
    "        try:\n",
    "            ##########################\n",
    "            #print(curr_link)\n",
    "            \n",
    "            if \"html\" in curr_link:\n",
    "                curr_link=curr_link.replace(\"html\",\"xml\")\n",
    "            else:\n",
    "                curr_link+=\".xml\"\n",
    "            #############################\n",
    "            #print(curr_link)\n",
    "            #break\n",
    "    \n",
    "            page = requests.get(curr_link)\n",
    "            soup = BeautifulSoup(page.text, 'html.parser')\n",
    "            master_dict={}\n",
    "            tag=soup.find(\"dblpperson\")\n",
    "            \n",
    "            #############################################\n",
    "            person_tag=tag.find(\"person\")\n",
    "            curr_dict={}\n",
    "            for child_tag in person_tag.find_all(recursive=False):\n",
    "                curr_tag_name=child_tag.name\n",
    "                if curr_tag_name in curr_dict:\n",
    "                    rep_tags.add(curr_tag_name)\n",
    "                    if type(curr_dict[curr_tag_name])!=list:\n",
    "                        curr_dict[curr_tag_name]=list(curr_dict[curr_tag_name])\n",
    "                    curr_dict[curr_tag_name].append(child_tag.text)\n",
    "                else:\n",
    "                    if curr_tag_name=='author':\n",
    "                        curr_dict[curr_tag_name]=[child_tag.text]\n",
    "                    else:\n",
    "                        #print(curr_tag_name)\n",
    "                        curr_dict[curr_tag_name]=child_tag.text\n",
    "            master_dict['person_details']=curr_dict\n",
    "            ############################################\n",
    "            r_tags=tag.find_all('r')\n",
    "            master_dict['work_details']=[fetch_all_info(x) for x in r_tags]\n",
    "            co_author_tag=tag.find(\"coauthors\")\n",
    "            #print(co_author_tag)\n",
    "            co_list=co_author_tag.find_all(recursive=False)\n",
    "            #print(len(co_list))\n",
    "            master_dict['co_author_list']=[x.find(\"na\").text for x in co_list]\n",
    "            person['dblp_data']=deepcopy(master_dict)\n",
    "            #print(\"person is \", person['dblp_data'])\n",
    "            \n",
    "            #in_df['final_result'][idx][1]['retrieved_data']=person[1]['retrieved_data']\n",
    "        except Exception as E:\n",
    "            unlucky_list.append((person['ire_person_name'],E))\n",
    "            \n",
    "    else:\n",
    "        unlucky_list.append((person['ire_person_name'],\"amibguity\"))\n",
    "    in_df['final_result'][idx]=deepcopy(person)\n",
    "    if idx%200==0:\n",
    "        print(\"Now\")\n",
    "        print(idx)\n",
    "        print(\"Saving\")\n",
    "        #break\n",
    "        save_result()"
   ]
  },
  {
   "cell_type": "code",
   "execution_count": 7,
   "metadata": {},
   "outputs": [],
   "source": [
    "in_df['curr_error_list_while_xml_parse']=unlucky_list"
   ]
  },
  {
   "cell_type": "code",
   "execution_count": 8,
   "metadata": {},
   "outputs": [],
   "source": [
    "save_result()"
   ]
  },
  {
   "cell_type": "code",
   "execution_count": null,
   "metadata": {},
   "outputs": [],
   "source": []
  },
  {
   "cell_type": "code",
   "execution_count": null,
   "metadata": {},
   "outputs": [],
   "source": []
  }
 ],
 "metadata": {
  "kernelspec": {
   "display_name": "Python 3",
   "language": "python",
   "name": "python3"
  },
  "language_info": {
   "codemirror_mode": {
    "name": "ipython",
    "version": 3
   },
   "file_extension": ".py",
   "mimetype": "text/x-python",
   "name": "python",
   "nbconvert_exporter": "python",
   "pygments_lexer": "ipython3",
   "version": "3.7.6"
  }
 },
 "nbformat": 4,
 "nbformat_minor": 4
}
