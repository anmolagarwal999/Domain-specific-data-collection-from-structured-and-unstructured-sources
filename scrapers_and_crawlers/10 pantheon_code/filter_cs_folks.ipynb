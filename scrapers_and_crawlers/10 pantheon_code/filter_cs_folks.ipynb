{
 "cells": [
  {
   "cell_type": "code",
   "execution_count": 1,
   "metadata": {},
   "outputs": [],
   "source": [
    "import numpy as np\n",
    "import json\n",
    "import pandas as pd"
   ]
  },
  {
   "cell_type": "code",
   "execution_count": 2,
   "metadata": {},
   "outputs": [
    {
     "name": "stdout",
     "output_type": "stream",
     "text": [
      "all_people.csv\tfilter_cs_folks.ipynb  json_for_cs_folks.json\r\n"
     ]
    }
   ],
   "source": [
    "!ls"
   ]
  },
  {
   "cell_type": "code",
   "execution_count": 3,
   "metadata": {},
   "outputs": [
    {
     "name": "stderr",
     "output_type": "stream",
     "text": [
      "/home/anmolagarwal/anaconda3/lib/python3.7/site-packages/IPython/core/interactiveshell.py:3063: DtypeWarning: Columns (28) have mixed types.Specify dtype option on import or set low_memory=False.\n",
      "  interactivity=interactivity, compiler=compiler, result=result)\n"
     ]
    }
   ],
   "source": [
    "df=pd.read_csv(\"all_people.csv\")"
   ]
  },
  {
   "cell_type": "code",
   "execution_count": 4,
   "metadata": {},
   "outputs": [
    {
     "name": "stdout",
     "output_type": "stream",
     "text": [
      "id\n",
      "wd_id\n",
      "wp_id\n",
      "slug\n",
      "name\n",
      "occupation\n",
      "prob_ratio\n",
      "gender\n",
      "twitter\n",
      "alive\n",
      "l\n",
      "hpi_raw\n",
      "bplace_name\n",
      "bplace_lat\n",
      "bplace_lon\n",
      "bplace_geonameid\n",
      "bplace_country\n",
      "birthdate\n",
      "birthyear\n",
      "dplace_name\n",
      "dplace_lat\n",
      "dplace_lon\n",
      "dplace_geonameid\n",
      "dplace_country\n",
      "deathdate\n",
      "deathyear\n",
      "bplace_geacron_name\n",
      "dplace_geacron_name\n",
      "is_group\n",
      "l_\n",
      "age\n",
      "non_en_page_views\n",
      "coefficient_of_variation\n",
      "hpi\n"
     ]
    }
   ],
   "source": [
    "print(*df.columns,sep='\\n')"
   ]
  },
  {
   "cell_type": "code",
   "execution_count": 5,
   "metadata": {},
   "outputs": [
    {
     "data": {
      "text/plain": [
       "array(['RELIGIOUS FIGURE', 'MILITARY PERSONNEL', 'INVENTOR', 'PHYSICIST',\n",
       "       'COMPOSER', 'PHILOSOPHER', 'POLITICIAN', 'ASTRONOMER', 'EXPLORER',\n",
       "       'PAINTER', 'WRITER', 'MATHEMATICIAN', 'PSYCHOLOGIST',\n",
       "       'SOCIAL ACTIVIST', 'BIOLOGIST', 'ECONOMIST', 'NOBLEMAN', 'BOXER',\n",
       "       'HISTORIAN', 'ACTOR', 'CHEMIST', 'PHYSICIAN', 'SOCIOLOGIST',\n",
       "       'SOCCER PLAYER', 'OCCULTIST', 'ASTRONAUT', 'COMPANION', 'DESIGNER',\n",
       "       'MUSICIAN', 'SINGER', 'ARCHITECT', 'INSPIRATION', 'EXTREMIST',\n",
       "       'FILM DIRECTOR', 'COMPUTER SCIENTIST', 'DIPLOMAT', 'PRODUCER',\n",
       "       'GEOGRAPHER', 'MAFIOSO', 'PILOT', 'BUSINESSPERSON',\n",
       "       'FASHION DESIGNER', 'ARTIST', 'CELEBRITY', 'SCULPTOR', 'ENGINEER',\n",
       "       'DANCER', 'PIRATE', 'LINGUIST', 'LAWYER', 'COMEDIAN',\n",
       "       'ARCHAEOLOGIST', 'MARTIAL ARTS', 'COMIC ARTIST', 'ATHLETE',\n",
       "       'COACH', 'RACING DRIVER', 'MAGICIAN', 'GEOLOGIST', 'CONDUCTOR',\n",
       "       'MOUNTAINEER', 'PUBLIC WORKER', 'CHESS PLAYER', 'JUDGE',\n",
       "       'JOURNALIST', 'POLITICAL SCIENTIST', 'ANTHROPOLOGIST',\n",
       "       'PHOTOGRAPHER', 'SWIMMER', 'PORNOGRAPHIC ACTOR', 'CYCLIST',\n",
       "       'TENNIS PLAYER', 'AMERICAN FOOTBALL PLAYER', 'STATISTICIAN',\n",
       "       'BASKETBALL PLAYER', 'PRESENTER', 'MODEL', 'CRITIC', 'SKATER',\n",
       "       'BASEBALL PLAYER', 'GYMNAST', 'WRESTLER', 'REFEREE', 'BULLFIGHTER',\n",
       "       'GAME DESIGNER', 'YOUTUBER', 'SKIER', 'CHEF', 'GO PLAYER',\n",
       "       'HOCKEY PLAYER', 'FENCER', 'GOLFER', 'POKER PLAYER',\n",
       "       'TABLE TENNIS PLAYER', 'SNOOKER', 'CRICKETER', 'HANDBALL PLAYER',\n",
       "       'VOLLEYBALL PLAYER', 'RUGBY PLAYER', 'GAMER', 'BADMINTON PLAYER'],\n",
       "      dtype=object)"
      ]
     },
     "execution_count": 5,
     "metadata": {},
     "output_type": "execute_result"
    }
   ],
   "source": [
    "df['occupation'].unique()"
   ]
  },
  {
   "cell_type": "code",
   "execution_count": 6,
   "metadata": {},
   "outputs": [],
   "source": [
    "df=df[df['occupation']==\"COMPUTER SCIENTIST\"]"
   ]
  },
  {
   "cell_type": "code",
   "execution_count": 7,
   "metadata": {},
   "outputs": [],
   "source": [
    "df = df.replace({np.nan: None})"
   ]
  },
  {
   "cell_type": "code",
   "execution_count": 8,
   "metadata": {},
   "outputs": [],
   "source": [
    "import json\n",
    "json_list = json.loads(json.dumps(list(df.T.to_dict().values())))"
   ]
  },
  {
   "cell_type": "code",
   "execution_count": null,
   "metadata": {},
   "outputs": [],
   "source": []
  },
  {
   "cell_type": "code",
   "execution_count": null,
   "metadata": {},
   "outputs": [],
   "source": []
  },
  {
   "cell_type": "code",
   "execution_count": 9,
   "metadata": {},
   "outputs": [],
   "source": [
    "with open(\"json_for_cs_folks.json\",'w') as fd:\n",
    "    json.dump(json_list, fd, indent=2,default=str)"
   ]
  },
  {
   "cell_type": "code",
   "execution_count": null,
   "metadata": {},
   "outputs": [],
   "source": []
  }
 ],
 "metadata": {
  "kernelspec": {
   "display_name": "Python 3",
   "language": "python",
   "name": "python3"
  },
  "language_info": {
   "codemirror_mode": {
    "name": "ipython",
    "version": 3
   },
   "file_extension": ".py",
   "mimetype": "text/x-python",
   "name": "python",
   "nbconvert_exporter": "python",
   "pygments_lexer": "ipython3",
   "version": "3.7.6"
  }
 },
 "nbformat": 4,
 "nbformat_minor": 4
}
