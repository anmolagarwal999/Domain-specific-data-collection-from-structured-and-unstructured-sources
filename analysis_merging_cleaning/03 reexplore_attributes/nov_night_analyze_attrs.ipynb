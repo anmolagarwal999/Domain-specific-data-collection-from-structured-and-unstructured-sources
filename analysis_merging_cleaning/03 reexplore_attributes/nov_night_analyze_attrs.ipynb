{
 "cells": [
  {
   "cell_type": "code",
   "execution_count": 1,
   "metadata": {},
   "outputs": [],
   "source": [
    "import os\n",
    "import sys\n",
    "import json\n",
    "from copy import deepcopy"
   ]
  },
  {
   "cell_type": "code",
   "execution_count": 2,
   "metadata": {},
   "outputs": [
    {
     "name": "stdout",
     "output_type": "stream",
     "text": [
      "all_funcs.py\t\t\t\t   oct_alias_mapping.json\r\n",
      "all_wiki_attributes_freq_sorted.json\t   oct_create_prelim_wiki_data.ipynb\r\n",
      "child_to_par_wiki.json\t\t\t   oct_exp.ipynb\r\n",
      "cleaned_merged_par_child_wiki.json\t   oct_explore_attributes.ipynb\r\n",
      "infobox_keys_set.txt\t\t\t   oct_prelim_wikidata_version.json\r\n",
      "merged_gs_viaf_dblp_wc.json\t\t   purified_child_to_par_wiki.json\r\n",
      "merged_gs_viaf_dblp_wc_mgp_wikiquote.json  purify_functions.py\r\n",
      "nice_birth_date_mapping.json\t\t   SHORT_merged_gs_viaf_dblp_wc.json\r\n",
      "nov_explore_wikidata.ipynb\t\t   test_purify_functions.ipynb\r\n",
      "nov_fetch_aliases.ipynb\t\t\t   useful_attributes.json\r\n"
     ]
    }
   ],
   "source": [
    "!ls ../explore_wiki_data"
   ]
  },
  {
   "cell_type": "code",
   "execution_count": 3,
   "metadata": {},
   "outputs": [],
   "source": [
    "with open(\"../explore_wiki_data/CNT_gs_viaf_dblp_wc_mgp_wikiquote.json\",'r') as fd:\n",
    "    df=json.load(fd)"
   ]
  },
  {
   "cell_type": "code",
   "execution_count": 4,
   "metadata": {},
   "outputs": [],
   "source": [
    "attr_freq=dict()"
   ]
  },
  {
   "cell_type": "code",
   "execution_count": 5,
   "metadata": {},
   "outputs": [],
   "source": [
    "curr_sample=dict()"
   ]
  },
  {
   "cell_type": "code",
   "execution_count": 6,
   "metadata": {},
   "outputs": [],
   "source": [
    "for curr_elem in df:\n",
    "    for curr_key, curr_val in curr_elem.items():\n",
    "        try:\n",
    "            attr_freq[curr_key]+=1\n",
    "            \n",
    "        except:\n",
    "            attr_freq[curr_key]=1\n",
    "            curr_sample[curr_key]=curr_val"
   ]
  },
  {
   "cell_type": "code",
   "execution_count": 7,
   "metadata": {},
   "outputs": [],
   "source": [
    "sorted_list=list(sorted(list(attr_freq.items()), key=lambda x:-x[1]))"
   ]
  },
  {
   "cell_type": "code",
   "execution_count": 8,
   "metadata": {},
   "outputs": [
    {
     "data": {
      "text/plain": [
       "[('wikipedia_page_id', 3469),\n",
       " ('wikipedia_page_url', 3469),\n",
       " ('person_name', 3469),\n",
       " ('backlinks_to_other_wiki_pages', 3469),\n",
       " ('wikipedia_categories_associated_with', 3469),\n",
       " ('ire_person_name', 3469),\n",
       " ('ire_wiki_id', 3469),\n",
       " ('wiki_pages_accessible_from_person_wiki_page', 3468),\n",
       " ('person_gender', 3425),\n",
       " ('person_job', 3360),\n",
       " ('institutions_educated_in', 3020),\n",
       " ('dblp_url_use', 2847),\n",
       " ('dblp_author_name', 2847),\n",
       " ('dblp_co_authors', 2847),\n",
       " ('dblp_publications', 2847),\n",
       " ('person_dob', 2645),\n",
       " ('employer_orgs', 2602),\n",
       " ('country_of_citizenship', 2510),\n",
       " ('Freebase ID (P646)', 2484),\n",
       " ('dblp_other_urls', 2304),\n",
       " ('viaf_list_of_publishers', 2157),\n",
       " ('viaf_list_of_publication_regions', 2157),\n",
       " ('person_domains', 2117),\n",
       " ('WorldCat Identities ID (P7859)', 1998),\n",
       " ('dblp_note', 1989),\n",
       " ('viaf_pubs_map_image', 1943),\n",
       " ('books_and_works_by_person', 1932),\n",
       " ('Library of Congress authority ID (P244)', 1878),\n",
       " ('wc_related_entities', 1866),\n",
       " ('wc_associated_subjects', 1848),\n",
       " ('awards_received', 1815),\n",
       " ('description', 1809),\n",
       " ('doctoral advisor(s)', 1758),\n",
       " ('place_of_birth', 1660),\n",
       " ('Mathematics Genealogy Project ID (P549)', 1432),\n",
       " ('mgp_data', 1429),\n",
       " ('person_birth_place', 1411),\n",
       " ('person_image_links', 1407),\n",
       " ('person_doctoral_students', 1221),\n",
       " ('associated_website', 1189),\n",
       " ('person_nationality', 1056),\n",
       " ('languages spoken, written or signed', 997),\n",
       " ('person_workplaces', 985),\n",
       " ('Google Scholar author ID (P1960)', 929),\n",
       " ('member of (P463)', 914),\n",
       " ('gs_Citations', 873),\n",
       " ('gs_h-index', 873),\n",
       " ('gs_i10-index', 873),\n",
       " ('gs_img', 873),\n",
       " ('gs_title', 873),\n",
       " ('gs_website', 873),\n",
       " ('gs_categories', 873),\n",
       " ('gs_publications', 873),\n",
       " ('person_thesis', 721),\n",
       " ('thesis_year', 671),\n",
       " ('person_residence', 578),\n",
       " ('works_about_person', 563),\n",
       " ('iwlinks', 563),\n",
       " ('person_date_of_death', 547),\n",
       " ('thesis_url', 429),\n",
       " ('person_death_place', 355),\n",
       " ('person_spouse(s)', 346),\n",
       " ('person_notable_work', 288),\n",
       " ('person_place_of_death', 286),\n",
       " ('Twitter username (P2002)', 259),\n",
       " ('person_children', 190),\n",
       " ('academic degree (P512)', 178),\n",
       " ('wikiquotes', 169),\n",
       " ('work location (P937)', 138),\n",
       " ('person_death_causes', 124),\n",
       " ('Semantic Scholar author ID (P4012)', 117),\n",
       " ('LinkedIn personal profile ID (P6634)', 114),\n",
       " ('person_influenced_by', 101),\n",
       " ('position held (P39)', 98),\n",
       " ('person_parents', 93),\n",
       " ('person_has_influenced', 87),\n",
       " ('religion (P140)', 64),\n",
       " ('participant in (P1344)', 62),\n",
       " ('ethnic group (P172)', 52),\n",
       " ('part of (P361)', 52),\n",
       " ('sibling (P3373)', 45),\n",
       " ('affiliation (P1416)', 42),\n",
       " ('GitHub username (P2037)', 41),\n",
       " ('Fellow of the Royal Society ID (P2070)', 41),\n",
       " ('years_active', 38),\n",
       " ('place of burial (P119)', 37),\n",
       " ('number of children (P1971)', 21),\n",
       " ('office', 21),\n",
       " ('official blog (P1581)', 20),\n",
       " ('organization', 15),\n",
       " ('has works in the collection (P6379)', 14),\n",
       " ('medical condition (P1050)', 14)]"
      ]
     },
     "execution_count": 8,
     "metadata": {},
     "output_type": "execute_result"
    }
   ],
   "source": [
    "sorted_list"
   ]
  },
  {
   "cell_type": "code",
   "execution_count": 9,
   "metadata": {},
   "outputs": [],
   "source": [
    "final_arr=[]"
   ]
  },
  {
   "cell_type": "code",
   "execution_count": 10,
   "metadata": {},
   "outputs": [],
   "source": [
    "for curr_elem in sorted_list:\n",
    "    this_dict=dict()\n",
    "    this_dict['attr_name']=curr_elem[0]\n",
    "    this_dict['curr_f']=curr_elem[1]\n",
    "    this_dict['sample_val']=curr_sample[curr_elem[0]]\n",
    "    final_arr.append(deepcopy(this_dict))"
   ]
  },
  {
   "cell_type": "code",
   "execution_count": 11,
   "metadata": {},
   "outputs": [],
   "source": [
    "with open(\"night_attr_analyze.json\",'w') as fd:\n",
    "    json.dump(final_arr, fd, indent=4)"
   ]
  },
  {
   "cell_type": "markdown",
   "metadata": {},
   "source": []
  },
  {
   "cell_type": "code",
   "execution_count": null,
   "metadata": {},
   "outputs": [],
   "source": []
  },
  {
   "cell_type": "code",
   "execution_count": null,
   "metadata": {},
   "outputs": [],
   "source": []
  },
  {
   "cell_type": "code",
   "execution_count": null,
   "metadata": {},
   "outputs": [],
   "source": []
  }
 ],
 "metadata": {
  "kernelspec": {
   "display_name": "Python 3",
   "language": "python",
   "name": "python3"
  },
  "language_info": {
   "codemirror_mode": {
    "name": "ipython",
    "version": 3
   },
   "file_extension": ".py",
   "mimetype": "text/x-python",
   "name": "python",
   "nbconvert_exporter": "python",
   "pygments_lexer": "ipython3",
   "version": "3.7.6"
  }
 },
 "nbformat": 4,
 "nbformat_minor": 4
}
