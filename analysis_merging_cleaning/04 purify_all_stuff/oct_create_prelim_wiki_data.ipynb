{
 "cells": [
  {
   "cell_type": "code",
   "execution_count": 1,
   "metadata": {},
   "outputs": [],
   "source": [
    "import json"
   ]
  },
  {
   "cell_type": "code",
   "execution_count": 2,
   "metadata": {},
   "outputs": [],
   "source": [
    "with open(\"merged_wiki_df.json\",'r') as fd:\n",
    "    df=json.load(fd)"
   ]
  },
  {
   "cell_type": "code",
   "execution_count": 3,
   "metadata": {},
   "outputs": [],
   "source": [
    "df=df['data']"
   ]
  },
  {
   "cell_type": "code",
   "execution_count": 4,
   "metadata": {},
   "outputs": [],
   "source": [
    "import re\n",
    "def rem_wikidata_page_id(q_str):\n",
    "    if q_str==None:\n",
    "        return None\n",
    "    #print(\"q_str is \",q_str)\n",
    "    q_str=re.sub(r'\\(Q.*\\)', '', q_str)\n",
    "    q_str=re.sub(r'\\(P.*\\)', '', q_str)\n",
    "    return q_str.rstrip().lstrip()"
   ]
  },
  {
   "cell_type": "code",
   "execution_count": 5,
   "metadata": {},
   "outputs": [
    {
     "data": {
      "text/plain": [
       "'spouse'"
      ]
     },
     "execution_count": 5,
     "metadata": {},
     "output_type": "execute_result"
    }
   ],
   "source": [
    "rem_wikidata_page_id(\"spouse (P26)\")"
   ]
  },
  {
   "cell_type": "code",
   "execution_count": 6,
   "metadata": {},
   "outputs": [],
   "source": [
    "def purify_dob(dob):\n",
    "    curr_str=\"\"\n",
    "    for curr_ch in dob[1:]:\n",
    "        if curr_ch=='T':\n",
    "            break\n",
    "        curr_str+=curr_ch\n",
    "    return curr_str"
   ]
  },
  {
   "cell_type": "code",
   "execution_count": 7,
   "metadata": {},
   "outputs": [],
   "source": [
    "wikidata_props_function_mapping={\n",
    "    \"sex or gender (P21)\":None,\n",
    "    \n",
    "    \"occupation (P106)\":None,\n",
    "    \n",
    "    \"birth name (P1477)\":None,\n",
    "    \"given name (P735)\":None,\n",
    "    \n",
    "    \n",
    "    \"educated at (P69)\":None,\n",
    "    \"academic degree (P512)\":None,\n",
    "        \"award received (P166)\":None,\n",
    "    \n",
    "       \"spouse (P26)\":None,\n",
    "    \"family name (P734)\":None,\n",
    "    \"father (P22)\":None,\n",
    "    \"mother (P25)\":None,\n",
    "    \"sibling (P3373)\":None,\n",
    "    \"child (P40)\":None,\n",
    "    \n",
    "    \"image (P18)\":None,\n",
    "    \"affiliation (P1416)\":None,\n",
    "    \"professorship (P803)\":None,\n",
    "    \"position held (P39)\":None,\n",
    "    \"field of work (P101)\":None,\n",
    "    \"notable work (P800)\":None,\n",
    "\n",
    "    \"religion (P140)\":None,\n",
    "    \"ethnic group (P172)\":None,\n",
    "    \n",
    "    \"date of birth (P569)\":purify_dob,\n",
    "    \"date of death (P570)\":purify_dob,\n",
    "    \"cause of death (P509)\":None,\n",
    "    \"manner of death (P1196)\":None,\n",
    "    \"place of birth (P19)\":None,\n",
    "    \"place of death (P20)\":None,\n",
    "    \n",
    "    \n",
    "    \"name in native language (P1559)\":None,\n",
    "    \"languages spoken, written or signed (P1412)\":None,\n",
    "    \"native language (P103)\":None,\n",
    "    \"writing language (P6886)\":None,\n",
    "    \n",
    "    \"residence (P551)\":None,\n",
    "    \"work location (P937)\":None,\n",
    "    \"country of citizenship (P27)\":None,\n",
    "    \"employer (P108)\":None,\n",
    "    \n",
    " \n",
    "    \n",
    "    \"official website (P856)\":None,\n",
    "        \"described at URL (P973)\":None,\n",
    "\n",
    "\n",
    "\n",
    "    \n",
    "    \"DBLP author ID (P2456)\":None,\n",
    "    \n",
    "    \"doctoral student (P185)\":None,\n",
    "    \"student (P802)\":None,\n",
    "    \"student of (P1066)\":None,\n",
    "    \"influenced by (P737)\":None,\n",
    "    \n",
    "    \n",
    "    \"member of (P463)\":None,\n",
    "    \"Google Scholar author ID (P1960)\":None,\n",
    "    \"ACM Digital Library author ID (P864)\":None,\n",
    "    \"Twitter username (P2002)\":None,\n",
    "    \n",
    "    \"participant in (P1344)\":None,\n",
    "    \"academic thesis (P1026)\":None,\n",
    "    \"GitHub username (P2037)\":None,\n",
    "    \"official blog (P1581)\":None,\n",
    "    \"YouTube channel ID (P2397)\":None,\n",
    "   \n",
    "    \n",
    "    \"Google Knowledge Graph ID (P2671)\":None,\n",
    "    \"WorldCat Identities ID (P7859)\":None,\n",
    "    \"Library of Congress authority ID (P244)\":None,\n",
    "    \n",
    "    \"ISNI (P213)\":None,\n",
    "    \n",
    "    \"NUKAT ID (P1207)\":None,\n",
    "    \"Nationale Thesaurus voor Auteurs ID (P1006)\":None,\n",
    "    \n",
    "    \"IdRef ID (P269)\":None,\n",
    "    \"GND ID (P227)\":None,\n",
    "    \n",
    "    \"ResearcherID (P1053)\":None,\n",
    "    \"ResearchGate profile ID (P2038)\":None,\n",
    "    \"zbMATH author ID (P1556)\":None,\n",
    "    \"SHARE Catalogue author ID (P3987)\":None,\n",
    "    \"Biblioth\\u00e8que nationale de France ID (P268)\":None,\n",
    "    \"ORCID iD (P496)\":None,\n",
    "    \"PLWABN ID (P7293)\":None,\n",
    "    \"Scopus author ID (P1153)\":None,\n",
    "    \"FAST ID (P2163)\":None,\n",
    "    \"National Diet Library ID (P349)\":None,\n",
    "    \"Academic Tree ID (P2381)\":None,\n",
    "    \"described by source (P1343)\":None,\n",
    "    \"CiNii author ID (books) (P271)\":None,\n",
    "    \"Encyclop\\u00e6dia Britannica Online ID (P1417)\":None,\n",
    "    \"LinkedIn personal profile ID one\":None,\n",
    "    \"Semantic Scholar author ID (P4012)\":None,\n",
    "    \"IEEE Xplore author ID (P6479)\":None,\n",
    "\n",
    "    \n",
    "}"
   ]
  },
  {
   "cell_type": "code",
   "execution_count": 8,
   "metadata": {},
   "outputs": [],
   "source": [
    "from copy import deepcopy"
   ]
  },
  {
   "cell_type": "code",
   "execution_count": 9,
   "metadata": {},
   "outputs": [],
   "source": [
    "final_data=[]"
   ]
  },
  {
   "cell_type": "code",
   "execution_count": 10,
   "metadata": {},
   "outputs": [],
   "source": [
    "def get_vals(value,fn):\n",
    "    if type(value)==list:\n",
    "        if fn!=None:\n",
    "            value=[fn(x) for x in value]\n",
    "        return [rem_wikidata_page_id(x) for x in value]\n",
    "    else:\n",
    "        if fn!=None:\n",
    "            value=fn(value)\n",
    "        return rem_wikidata_page_id(value)\n",
    "        "
   ]
  },
  {
   "cell_type": "code",
   "execution_count": 11,
   "metadata": {},
   "outputs": [
    {
     "data": {
      "text/plain": [
       "{'name': 'Avi Silberschatz',\n",
       " 'image': 'Avi silberschatz.jpg',\n",
       " 'field': '[[Computer Science]]',\n",
       " 'work_institution': '[[Yale University]]',\n",
       " 'alma_mater': '[[Stony Brook University]]<br />[[Yale University]]',\n",
       " 'doctoral_advisor': 'Arthur Bernstein<br>Richard Kieburtz',\n",
       " 'doctoral_students': '[[C. Mohan]]<br>[[Raghu Ramakrishnan]]',\n",
       " 'known_for': '[[database systems]]<br>[[operating systems]]',\n",
       " 'prizes': 'ACM Fellow<br>IEEE Fellow<br>AAAS Fellow<br>IEEE Taylor L. Booth Education Award (2002)<br>ACM Karl V. Karlstrom Outstanding Educator Award (1998)<br>ACM SIGMOD Contribution Award (1997)<br> 2019 VLDB Test of Time Award',\n",
       " 'website': 'http://www.cs.yale.edu/~avi/'}"
      ]
     },
     "execution_count": 11,
     "metadata": {},
     "output_type": "execute_result"
    }
   ],
   "source": [
    "df[0]['infobox']"
   ]
  },
  {
   "cell_type": "code",
   "execution_count": 12,
   "metadata": {},
   "outputs": [
    {
     "name": "stdout",
     "output_type": "stream",
     "text": [
      "alias_mapping.json\t\t\tinfobox_keys_set.txt\r\n",
      "create_google_scholar_id_mapping.ipynb\tmathematics_project_id_mapping.json\r\n",
      "create_prelim_wiki_data.ipynb\t\tmerged_wiki_df.json\r\n",
      "exp.ipynb\t\t\t\tmerge_wiki.ipynb\r\n",
      "explore_attributes.ipynb\t\tmerging.ipynb\r\n",
      "fetch_aliases.ipynb\t\t\tuseful_attrs.txt\r\n",
      "google_scholar_id_mapping.json\t\twikidata_attributes_details.json\r\n"
     ]
    }
   ],
   "source": [
    "!ls"
   ]
  },
  {
   "cell_type": "code",
   "execution_count": 13,
   "metadata": {},
   "outputs": [],
   "source": [
    "with open(\"alias_mapping.json\",'r') as fd:\n",
    "    alias_dict=json.load(fd)"
   ]
  },
  {
   "cell_type": "code",
   "execution_count": 14,
   "metadata": {},
   "outputs": [
    {
     "data": {
      "text/plain": [
       "['Avi Silberschatz', 'Abraham Silberschatz']"
      ]
     },
     "execution_count": 14,
     "metadata": {},
     "output_type": "execute_result"
    }
   ],
   "source": [
    "alias_dict['Abraham Silberschatz']"
   ]
  },
  {
   "cell_type": "code",
   "execution_count": 15,
   "metadata": {},
   "outputs": [],
   "source": [
    "for curr_p in df:\n",
    "    p_name=curr_p['ire_person_name']\n",
    "    main_dict=dict()\n",
    "    main_dict['ire_person_name']=p_name\n",
    "    main_dict['alias_list']=alias_dict[p_name]\n",
    "    \n",
    "    for attr_name,fn in wikidata_props_function_mapping.items():\n",
    "        if attr_name in curr_p['wikidata']:\n",
    "            main_dict[rem_wikidata_page_id(attr_name)]=get_vals(curr_p['wikidata'][attr_name],fn)\n",
    "    if 'infobox' in curr_p and curr_p['infobox']!=None:\n",
    "        for key,val in curr_p['infobox'].items():\n",
    "            main_dict[key]=val\n",
    "    main_dict['attr_cnt']=len(main_dict.keys())\n",
    "        \n",
    "\n",
    "    final_data.append(deepcopy(main_dict))\n",
    "        "
   ]
  },
  {
   "cell_type": "code",
   "execution_count": 16,
   "metadata": {},
   "outputs": [
    {
     "data": {
      "text/plain": [
       "3254"
      ]
     },
     "execution_count": 16,
     "metadata": {},
     "output_type": "execute_result"
    }
   ],
   "source": [
    "len(final_data)"
   ]
  },
  {
   "cell_type": "code",
   "execution_count": 17,
   "metadata": {},
   "outputs": [],
   "source": [
    "final_data=sorted(final_data, key=lambda x:x['attr_cnt'],reverse=True)"
   ]
  },
  {
   "cell_type": "code",
   "execution_count": 18,
   "metadata": {},
   "outputs": [],
   "source": [
    "with open(\"prelim_wikidata_version.json\",'w') as fd:\n",
    "    json.dump(final_data, fd, indent=4)"
   ]
  }
 ],
 "metadata": {
  "kernelspec": {
   "display_name": "Python 3",
   "language": "python",
   "name": "python3"
  },
  "language_info": {
   "codemirror_mode": {
    "name": "ipython",
    "version": 3
   },
   "file_extension": ".py",
   "mimetype": "text/x-python",
   "name": "python",
   "nbconvert_exporter": "python",
   "pygments_lexer": "ipython3",
   "version": "3.7.6"
  }
 },
 "nbformat": 4,
 "nbformat_minor": 4
}
