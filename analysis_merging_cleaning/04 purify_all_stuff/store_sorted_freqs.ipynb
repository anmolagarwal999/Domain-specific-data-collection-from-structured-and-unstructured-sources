{
 "cells": [
  {
   "cell_type": "markdown",
   "metadata": {},
   "source": [
    "### The purpose of this notebook is to generate a sorted list of attributes to decide on final merging steps"
   ]
  },
  {
   "cell_type": "code",
   "execution_count": 1,
   "metadata": {},
   "outputs": [],
   "source": [
    "import json\n",
    "import os\n",
    "import sys\n",
    "from copy import deepcopy"
   ]
  },
  {
   "cell_type": "code",
   "execution_count": 3,
   "metadata": {},
   "outputs": [],
   "source": [
    "FILE_PATH=\"./CNT_gs_viaf_dblp_wc_mgp_wikiquote_influ_semantic_research.json\"\n",
    "with open(FILE_PATH, 'r') as fd:\n",
    "    df=json.load(fd)"
   ]
  },
  {
   "cell_type": "markdown",
   "metadata": {},
   "source": [
    "### For each attribute, store a sample value also for analysis. Also, maintain a freq dict"
   ]
  },
  {
   "cell_type": "code",
   "execution_count": 4,
   "metadata": {},
   "outputs": [],
   "source": [
    "attr_freq=dict()\n",
    "sample_vals=dict()\n",
    "for curr_elem in df:\n",
    "    for curr_key, curr_val in curr_elem.items():\n",
    "        try:\n",
    "            attr_freq[curr_key]+=1\n",
    "            if curr_val['num_sources']>sample_vals[curr_key]['num_sources']:\n",
    "                curr_val['num_sources']=sample_vals[curr_key]['num_sources']\n",
    "                \n",
    "        except:\n",
    "            attr_freq[curr_key]=1\n",
    "            sample_vals[curr_key]=deepcopy(curr_val)"
   ]
  },
  {
   "cell_type": "code",
   "execution_count": 5,
   "metadata": {},
   "outputs": [],
   "source": [
    "freq_arr=list(attr_freq.items())\n",
    "sorted_freq_arr=list(sorted(freq_arr, key=lambda x:-x[1]))"
   ]
  },
  {
   "cell_type": "code",
   "execution_count": 6,
   "metadata": {},
   "outputs": [],
   "source": [
    "final_arr=[]\n",
    "for curr_elem in sorted_freq_arr:\n",
    "    curr_dict={\"attr_name\":curr_elem[0], 'f':curr_elem[1], \"sample_val\":sample_vals[curr_elem[0]]}\n",
    "    final_arr.append(deepcopy(curr_dict))"
   ]
  },
  {
   "cell_type": "code",
   "execution_count": 7,
   "metadata": {},
   "outputs": [],
   "source": [
    "with open(\"sample_and_freqs_for_attributes.json\", 'w') as fd:\n",
    "    json.dump(final_arr, fd, indent=4)"
   ]
  }
 ],
 "metadata": {
  "kernelspec": {
   "display_name": "Python 3",
   "language": "python",
   "name": "python3"
  },
  "language_info": {
   "codemirror_mode": {
    "name": "ipython",
    "version": 3
   },
   "file_extension": ".py",
   "mimetype": "text/x-python",
   "name": "python",
   "nbconvert_exporter": "python",
   "pygments_lexer": "ipython3",
   "version": "3.7.6"
  }
 },
 "nbformat": 4,
 "nbformat_minor": 4
}
