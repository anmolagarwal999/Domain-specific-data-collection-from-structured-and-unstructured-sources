{
 "cells": [
  {
   "cell_type": "code",
   "execution_count": 1,
   "metadata": {},
   "outputs": [],
   "source": [
    "import json\n",
    "from copy import deepcopy"
   ]
  },
  {
   "cell_type": "code",
   "execution_count": 2,
   "metadata": {},
   "outputs": [
    {
     "name": "stdout",
     "output_type": "stream",
     "text": [
      "create_EXT_databases_mapping.ipynb  math_genea_mapping.json\r\n",
      "dblp_mapping.json\t\t    VIAF_mapping.json\r\n",
      "google_scholar_mapping.json\r\n"
     ]
    }
   ],
   "source": [
    "!ls"
   ]
  },
  {
   "cell_type": "code",
   "execution_count": 3,
   "metadata": {},
   "outputs": [],
   "source": [
    "with open(\"../scrape_wiki/merged_wiki_df.json\",'r') as fd:\n",
    "    df=json.load(fd)"
   ]
  },
  {
   "cell_type": "code",
   "execution_count": 4,
   "metadata": {},
   "outputs": [],
   "source": [
    "df=df['data']"
   ]
  },
  {
   "cell_type": "code",
   "execution_count": 5,
   "metadata": {},
   "outputs": [
    {
     "data": {
      "text/plain": [
       "{'instance of (P31)': 'human (Q5)',\n",
       " 'sex or gender (P21)': 'male (Q6581097)',\n",
       " 'occupation (P106)': ['computer scientist (Q82594)', 'engineer (Q81096)'],\n",
       " 'given name (P735)': 'Abraham (Q17997608)',\n",
       " 'member of (P463)': 'Institute of Electrical and Electronics Engineers (Q131566)',\n",
       " 'employer (P108)': 'Yale University (Q49112)',\n",
       " 'country of citizenship (P27)': 'United States of America (Q30)',\n",
       " 'VIAF ID (P214)': '9872484',\n",
       " 'National Library of Greece ID (P3348)': '266266',\n",
       " 'educated at (P69)': ['Stony Brook University (Q969850)',\n",
       "  'State University of New York (Q1140241)',\n",
       "  'IDF Junior Command Preparatory Boarding School (Q7063325)'],\n",
       " 'DBLP author ID (P2456)': 's/AbrahamSilberschatz',\n",
       " 'Library of Congress authority ID (P244)': 'n82162524',\n",
       " 'National Diet Library ID (P349)': '00456577',\n",
       " 'NORAF ID (P1015)': '90120273',\n",
       " 'NUKAT ID (P1207)': 'n94300380',\n",
       " 'CANTIC ID (old) (P1273)': 'a11392587',\n",
       " 'ISNI (P213)': '0000 0000 7970 3139',\n",
       " 'Nationale Thesaurus voor Auteurs ID (P1006)': '069705674',\n",
       " 'Mathematics Genealogy Project ID (P549)': '94554',\n",
       " 'ACM Digital Library author ID (P864)': '81410592733',\n",
       " 'Bibliothèque nationale de France ID (P268)': '120801560',\n",
       " 'IdRef ID (P269)': '029106567',\n",
       " 'languages spoken, written or signed (P1412)': 'English (Q1860)',\n",
       " 'award received (P166)': ['ACM Fellow (Q18748039)', 'IEEE Fellow (Q111734)'],\n",
       " 'doctoral student (P185)': ['C. Mohan (Q5006716)',\n",
       "  'Raghu Ramakrishnan (Q7282986)',\n",
       "  'Rajeev Rastogi (Q15995420)',\n",
       "  'Donald Spencer Fussell (Q102129368)',\n",
       "  'Iyer Venkateshwaran Ramakrishnan (Q102157550)',\n",
       "  'Sharad Mehrotra (Q102196909)',\n",
       "  'Samuel Lycurgus Grier, Jr. (Q102300750)',\n",
       "  'Sumit Ganguly (Q102300751)',\n",
       "  'Ernest Samuel Cohen (Q102300752)',\n",
       "  'Khien Mien Chew (Q102300753)',\n",
       "  'Banu Rahime Ozden (Q102300754)',\n",
       "  'Robert Lee Read (Q102300755)'],\n",
       " 'student (P802)': 'Kenneth Seals-Nutt (Q47487399)',\n",
       " 'NKCR AUT ID (P691)': 'xx0039556',\n",
       " 'place of birth (P19)': 'Haifa (Q41621)',\n",
       " 'described by source (P1343)': 'Obalky knih.cz (Q67311526)',\n",
       " 'National Library of Korea ID (P5034)': 'KAC199625302',\n",
       " 'official website (P856)': 'http://www.cs.yale.edu/~avi/',\n",
       " 'MR Author ID (P4955)': '162045',\n",
       " 'WorldCat Identities ID (P7859)': 'lccn-n82162524',\n",
       " 'University of Barcelona authority ID (P1580)': 'a1277921',\n",
       " 'doctoral advisor (P184)': ['Arthur Jay Bernstein (Q102077480)',\n",
       "  'Richard Kieburtz (Q68622015)'],\n",
       " 'PLWABN ID (P7293)': '9810669141905606',\n",
       " 'Freebase ID (P646)': '/m/0bq3td',\n",
       " 'date of birth (P569)': '+1947-05-01T00:00:00Z',\n",
       " 'image (P18)': 'Avi silberschatz.jpg',\n",
       " 'National Library of Israel ID (P949)': '000449084',\n",
       " 'National Library of Israel J9U ID (P8189)': '987007275044405171',\n",
       " 'RERO ID (P3065)': '02-A003831639',\n",
       " 'SHARE Catalogue author ID (P3987)': '7949',\n",
       " 'CANTIC ID (P9984)': '981058513175206706',\n",
       " 'National Library of Brazil ID (P4619)': '000156900',\n",
       " 'LNB ID (P1368)': '000187195',\n",
       " 'CiNii author ID (books) (P271)': 'DA0016208X',\n",
       " 'NSK ID (P1375)': '000345680'}"
      ]
     },
     "execution_count": 5,
     "metadata": {},
     "output_type": "execute_result"
    }
   ],
   "source": [
    "df[0]['wikidata']"
   ]
  },
  {
   "cell_type": "code",
   "execution_count": 6,
   "metadata": {},
   "outputs": [],
   "source": [
    "def populate_sample_vals(prop_name):\n",
    "    final_arr=[]\n",
    "    not_found=0\n",
    "    for idx, curr_p in enumerate(df):\n",
    "        arr=dict()\n",
    "        arr['ire_person_name']=curr_p['ire_person_name']\n",
    "        arr['ire_wiki_id']=curr_p['ire_wiki_id']\n",
    "        p_name=curr_p['ire_person_name']\n",
    "        if 'wikidata' not in curr_p:\n",
    "            print(idx)\n",
    "            print(curr_p['ire_person_name'])\n",
    "            curr_p['wikidata']={}\n",
    "        if prop_name in curr_p['wikidata']:\n",
    "            arr[prop_name]=curr_p['wikidata'][prop_name]\n",
    "        else:\n",
    "            arr[prop_name]=None\n",
    "            not_found+=1\n",
    "            #print()\n",
    "            #arr.append(type(curr_p['wikidata'][prop_name]))\n",
    "        final_arr.append(deepcopy(arr))\n",
    "    print(\"Not found for people : \", not_found)\n",
    "    with open(\"world_cat.json\",'w') as fd:\n",
    "        json.dump(final_arr, fd, indent=2,default=str)"
   ]
  },
  {
   "cell_type": "code",
   "execution_count": 7,
   "metadata": {},
   "outputs": [
    {
     "name": "stdout",
     "output_type": "stream",
     "text": [
      "3382\n",
      "Christian Salvatore\n",
      "Not found for people :  1471\n"
     ]
    }
   ],
   "source": [
    "now_name=\"WorldCat Identities ID (P7859)\"\n",
    "populate_sample_vals(now_name)"
   ]
  },
  {
   "cell_type": "code",
   "execution_count": 8,
   "metadata": {},
   "outputs": [
    {
     "data": {
      "text/plain": [
       "dict_keys(['instance of (P31)', 'sex or gender (P21)', 'occupation (P106)', 'given name (P735)', 'member of (P463)', 'employer (P108)', 'country of citizenship (P27)', 'VIAF ID (P214)', 'National Library of Greece ID (P3348)', 'educated at (P69)', 'DBLP author ID (P2456)', 'Library of Congress authority ID (P244)', 'National Diet Library ID (P349)', 'NORAF ID (P1015)', 'NUKAT ID (P1207)', 'CANTIC ID (old) (P1273)', 'ISNI (P213)', 'Nationale Thesaurus voor Auteurs ID (P1006)', 'Mathematics Genealogy Project ID (P549)', 'ACM Digital Library author ID (P864)', 'Bibliothèque nationale de France ID (P268)', 'IdRef ID (P269)', 'languages spoken, written or signed (P1412)', 'award received (P166)', 'doctoral student (P185)', 'student (P802)', 'NKCR AUT ID (P691)', 'place of birth (P19)', 'described by source (P1343)', 'National Library of Korea ID (P5034)', 'official website (P856)', 'MR Author ID (P4955)', 'WorldCat Identities ID (P7859)', 'University of Barcelona authority ID (P1580)', 'doctoral advisor (P184)', 'PLWABN ID (P7293)', 'Freebase ID (P646)', 'date of birth (P569)', 'image (P18)', 'National Library of Israel ID (P949)', 'National Library of Israel J9U ID (P8189)', 'RERO ID (P3065)', 'SHARE Catalogue author ID (P3987)', 'CANTIC ID (P9984)', 'National Library of Brazil ID (P4619)', 'LNB ID (P1368)', 'CiNii author ID (books) (P271)', 'NSK ID (P1375)'])"
      ]
     },
     "execution_count": 8,
     "metadata": {},
     "output_type": "execute_result"
    }
   ],
   "source": [
    "df[0]['wikidata'].keys()"
   ]
  },
  {
   "cell_type": "code",
   "execution_count": null,
   "metadata": {},
   "outputs": [],
   "source": []
  }
 ],
 "metadata": {
  "kernelspec": {
   "display_name": "Python 3",
   "language": "python",
   "name": "python3"
  },
  "language_info": {
   "codemirror_mode": {
    "name": "ipython",
    "version": 3
   },
   "file_extension": ".py",
   "mimetype": "text/x-python",
   "name": "python",
   "nbconvert_exporter": "python",
   "pygments_lexer": "ipython3",
   "version": "3.7.6"
  }
 },
 "nbformat": 4,
 "nbformat_minor": 4
}
