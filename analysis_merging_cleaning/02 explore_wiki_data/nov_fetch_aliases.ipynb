{
 "cells": [
  {
   "cell_type": "code",
   "execution_count": 1,
   "metadata": {},
   "outputs": [],
   "source": [
    "import json"
   ]
  },
  {
   "cell_type": "code",
   "execution_count": 2,
   "metadata": {},
   "outputs": [
    {
     "name": "stdout",
     "output_type": "stream",
     "text": [
      "enormous_merged_wiki_df.json  initial_wiki_all_data.json\r\n",
      "extra_wiki_all_data.json      merged_wiki_df.json\r\n",
      "fetch.ipynb\t\t      merge_wiki.ipynb\r\n",
      "fetch.py\t\t      old_merged_wiki_df.json\r\n"
     ]
    }
   ],
   "source": [
    "!ls ../scrape_wiki"
   ]
  },
  {
   "cell_type": "code",
   "execution_count": 3,
   "metadata": {},
   "outputs": [],
   "source": [
    "FILE_NAME=\"../scrape_wiki/enormous_merged_wiki_df.json\"\n",
    "with open(FILE_NAME,'r') as fd:\n",
    "    df=json.load(fd)"
   ]
  },
  {
   "cell_type": "code",
   "execution_count": 4,
   "metadata": {},
   "outputs": [
    {
     "data": {
      "text/plain": [
       "dict_keys(['error_list', 'attr_freq', 'tot_success', 'tot_failures', 'data'])"
      ]
     },
     "execution_count": 4,
     "metadata": {},
     "output_type": "execute_result"
    }
   ],
   "source": [
    "df.keys()"
   ]
  },
  {
   "cell_type": "code",
   "execution_count": 5,
   "metadata": {},
   "outputs": [],
   "source": [
    "df=df['data']"
   ]
  },
  {
   "cell_type": "code",
   "execution_count": 6,
   "metadata": {},
   "outputs": [
    {
     "name": "stdout",
     "output_type": "stream",
     "text": [
      "pageid\n",
      "extract\n",
      "extext\n",
      "url\n",
      "links\n",
      "wikibase\n",
      "aliases\n",
      "description\n",
      "label\n",
      "title\n",
      "image\n",
      "iwlinks\n",
      "wikitext\n",
      "infobox\n",
      "labels\n",
      "wikidata\n",
      "wikidata_pageid\n",
      "claims\n",
      "exrest\n",
      "exhtml\n",
      "backlinks\n",
      "categories\n",
      "files\n",
      "ire_person_name\n"
     ]
    }
   ],
   "source": [
    "print(*df[0].keys(),sep='\\n')"
   ]
  },
  {
   "cell_type": "code",
   "execution_count": 7,
   "metadata": {},
   "outputs": [
    {
     "data": {
      "text/plain": [
       "[{'pageid': 5101640, 'ns': 0, 'title': 'Elizabeth Holberton'},\n",
       " {'pageid': 17840780, 'ns': 0, 'title': 'Frances Elizabeth Snyder'},\n",
       " {'pageid': 26730142, 'ns': 0, 'title': 'Frances Elizabeth Holberton'},\n",
       " {'pageid': 47787329, 'ns': 0, 'title': 'Betty Snyder'}]"
      ]
     },
     "execution_count": 7,
     "metadata": {},
     "output_type": "execute_result"
    }
   ],
   "source": [
    "df[1]['redirects']"
   ]
  },
  {
   "cell_type": "markdown",
   "metadata": {},
   "source": [
    "* ire person name\n",
    "* label\n",
    "* aliases\n",
    "* infobox\n"
   ]
  },
  {
   "cell_type": "code",
   "execution_count": 8,
   "metadata": {},
   "outputs": [],
   "source": [
    "key_arr=set()\n",
    "for x in df:\n",
    "    try:\n",
    "        k_list=list(x['infobox'].keys())\n",
    "        for curr_key in k_list:\n",
    "            key_arr.add(curr_key)\n",
    "    except:\n",
    "        pass"
   ]
  },
  {
   "cell_type": "code",
   "execution_count": 9,
   "metadata": {},
   "outputs": [
    {
     "data": {
      "text/plain": [
       "276"
      ]
     },
     "execution_count": 9,
     "metadata": {},
     "output_type": "execute_result"
    }
   ],
   "source": [
    "len(key_arr)"
   ]
  },
  {
   "cell_type": "code",
   "execution_count": 10,
   "metadata": {},
   "outputs": [],
   "source": [
    "key_arr=list(key_arr)"
   ]
  },
  {
   "cell_type": "code",
   "execution_count": 11,
   "metadata": {},
   "outputs": [],
   "source": [
    "key_arr.sort()"
   ]
  },
  {
   "cell_type": "code",
   "execution_count": 12,
   "metadata": {},
   "outputs": [],
   "source": [
    "str_to_write=\"\\n\".join(key_arr)"
   ]
  },
  {
   "cell_type": "code",
   "execution_count": 13,
   "metadata": {},
   "outputs": [],
   "source": [
    "with open(\"infobox_keys_set.txt\",'w') as fd:\n",
    "    fd.write(str_to_write)"
   ]
  },
  {
   "cell_type": "code",
   "execution_count": 14,
   "metadata": {},
   "outputs": [],
   "source": [
    "# birthname, pseudonym"
   ]
  },
  {
   "cell_type": "code",
   "execution_count": 15,
   "metadata": {},
   "outputs": [],
   "source": [
    "desired_keys=['birthname','pseudonym']"
   ]
  },
  {
   "cell_type": "code",
   "execution_count": 16,
   "metadata": {},
   "outputs": [],
   "source": [
    "alias_arr=[]"
   ]
  },
  {
   "cell_type": "code",
   "execution_count": 17,
   "metadata": {},
   "outputs": [],
   "source": [
    "from copy import deepcopy\n",
    "for idx, curr_p in enumerate(df):\n",
    "    p_name=curr_p['ire_person_name']\n",
    "    p_aliases=set([p_name])\n",
    "    alias_mapping=dict()\n",
    "    for w_key in desired_keys:\n",
    "        try:\n",
    "            if w_key in curr_p['infobox']:\n",
    "                p_aliases.add(curr_p['infobox'][w_key])\n",
    "        except:\n",
    "            #print(curr_p['ire_person_name'])\n",
    "            break\n",
    "    if 'aliases' in curr_p:\n",
    "        p_aliases.update(curr_p['aliases'])\n",
    "    if 'label' in curr_p:\n",
    "        p_aliases.add(curr_p['label'])\n",
    "    if 'redirects' in curr_p:\n",
    "        alt_names=[y['title'] for y in curr_p['redirects']]\n",
    "        p_aliases.update(alt_names)\n",
    "    alias_mapping[\"ire_person_name\"]=p_name\n",
    "    alias_mapping[\"ire_wiki_id\"]=idx\n",
    "    alias_mapping[\"aliases\"]=list(p_aliases)\n",
    "    alias_arr.append(deepcopy(alias_mapping))"
   ]
  },
  {
   "cell_type": "code",
   "execution_count": 18,
   "metadata": {},
   "outputs": [],
   "source": [
    "with open(\"nov_alias_mapping.json\",'w') as fd:\n",
    "    json.dump(alias_arr, fd, indent=3)"
   ]
  },
  {
   "cell_type": "code",
   "execution_count": null,
   "metadata": {},
   "outputs": [],
   "source": []
  }
 ],
 "metadata": {
  "kernelspec": {
   "display_name": "Python 3",
   "language": "python",
   "name": "python3"
  },
  "language_info": {
   "codemirror_mode": {
    "name": "ipython",
    "version": 3
   },
   "file_extension": ".py",
   "mimetype": "text/x-python",
   "name": "python",
   "nbconvert_exporter": "python",
   "pygments_lexer": "ipython3",
   "version": "3.7.6"
  }
 },
 "nbformat": 4,
 "nbformat_minor": 4
}
