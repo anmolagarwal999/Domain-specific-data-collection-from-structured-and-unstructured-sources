{
 "cells": [
  {
   "cell_type": "code",
   "execution_count": 1,
   "metadata": {},
   "outputs": [],
   "source": [
    "import json"
   ]
  },
  {
   "cell_type": "markdown",
   "metadata": {},
   "source": [
    "## Load the file"
   ]
  },
  {
   "cell_type": "code",
   "execution_count": 3,
   "metadata": {},
   "outputs": [],
   "source": [
    "with open(\"merged_wiki_df.json\",'r') as fd:\n",
    "    df=json.load(fd)"
   ]
  },
  {
   "cell_type": "code",
   "execution_count": 4,
   "metadata": {},
   "outputs": [
    {
     "data": {
      "text/plain": [
       "dict_keys(['error_list', 'attr_freq', 'tot_success', 'tot_failures', 'data'])"
      ]
     },
     "execution_count": 4,
     "metadata": {},
     "output_type": "execute_result"
    }
   ],
   "source": [
    "df.keys()"
   ]
  },
  {
   "cell_type": "code",
   "execution_count": 5,
   "metadata": {},
   "outputs": [],
   "source": [
    "df=df['data']"
   ]
  },
  {
   "cell_type": "markdown",
   "metadata": {},
   "source": [
    "#### Use Sergey Brin as an example for exploration"
   ]
  },
  {
   "cell_type": "code",
   "execution_count": 6,
   "metadata": {},
   "outputs": [
    {
     "name": "stdout",
     "output_type": "stream",
     "text": [
      "6:Per Brinch Hansen\n",
      "562:Duncan Brinsmead\n",
      "642:Willard C. Brinton\n",
      "655:Selmer Bringsjord\n",
      "1641:Sjaak Brinkkemper\n",
      "2801:Sergey Brin\n"
     ]
    }
   ],
   "source": [
    "curr_dict=None\n",
    "for idx, val in enumerate(df):\n",
    "    name=val['ire_person_name']\n",
    "    if \"Brin\" in name:\n",
    "        print(f\"{idx}:{name}\")"
   ]
  },
  {
   "cell_type": "code",
   "execution_count": null,
   "metadata": {},
   "outputs": [],
   "source": [
    "curr_dict=df[2801]"
   ]
  },
  {
   "cell_type": "code",
   "execution_count": 8,
   "metadata": {
    "scrolled": true
   },
   "outputs": [
    {
     "data": {
      "text/plain": [
       "{'employer (P108)': 'Alphabet Inc. (Q20800404)',\n",
       " 'native language (P103)': 'Russian (Q7737)',\n",
       " 'Commons category (P373)': 'Sergey Brin',\n",
       " 'VIAF ID (P214)': '120111435',\n",
       " 'ISNI (P213)': '0000 0000 7879 1368',\n",
       " 'Library of Congress authority ID (P244)': 'no2005073928',\n",
       " 'GND ID (P227)': '132711648',\n",
       " 'spouse (P26)': ['Anne Wojcicki (Q2069573)', 'Nicole Shanahan (Q105100778)'],\n",
       " 'IMDb ID (P345)': 'nm1962236',\n",
       " 'image (P18)': 'Sergey Brin Ted 2010.jpg',\n",
       " 'signature (P109)': 'Sergey Brin google signature.svg',\n",
       " 'father (P22)': 'Michael Brin (Q15455589)',\n",
       " 'mother (P25)': 'Eugenia Brin (Q13377792)',\n",
       " 'date of birth (P569)': '+1973-08-21T00:00:00Z',\n",
       " 'occupation (P106)': ['computer scientist (Q82594)',\n",
       "  'inventor (Q205375)',\n",
       "  'business executive (Q2961975)'],\n",
       " 'country of citizenship (P27)': ['Soviet Union (Q15180)',\n",
       "  'United States of America (Q30)'],\n",
       " 'place of birth (P19)': 'Moscow (Q649)',\n",
       " 'educated at (P69)': ['University of Maryland (Q503415)',\n",
       "  'Stanford University (Q41506)',\n",
       "  'Eleanor Roosevelt High School (Q14691919)'],\n",
       " 'instance of (P31)': 'human (Q5)',\n",
       " 'Freebase ID (P646)': '/m/0gjq6',\n",
       " 'described by source (P1343)': ['Lentapedia (Q17290934)',\n",
       "  'Obalky knih.cz (Q67311526)'],\n",
       " 'website account on (P553)': 'Blogger (Q171186)',\n",
       " 'Nationale Thesaurus voor Auteurs ID (P1006)': '321646282',\n",
       " 'ethnic group (P172)': 'Jewish people (Q7325)',\n",
       " 'Erdős number (P2021)': {'amount': '+3', 'unit': '1'},\n",
       " 'C-SPAN person ID (P2190)': 'sergeybrin',\n",
       " 'FAST ID (P2163)': '1619841',\n",
       " 'child (P40)': ['Benji Wojin (Q22442744)', 'Chloe Wojin (Q22442746)'],\n",
       " 'TED speaker ID (P2611)': 'sergey_brin',\n",
       " 'Google+ ID (P2847)': '+SergeyBrin',\n",
       " 'award received (P166)': ['Marconi Prize (Q473292)',\n",
       "  'Seoul Test of Time Award (Q52160052)',\n",
       "  'Abramowitz Award (Q107855317)'],\n",
       " \"topic's main category (P910)\": 'Category:Sergey Brin (Q9738259)',\n",
       " 'NNDB people ID (P1263)': '826/000044694',\n",
       " 'net worth (P2218)': [{'amount': '+34000000000',\n",
       "   'unit': 'http://www.wikidata.org/entity/Q4917'},\n",
       "  {'amount': '+32600000000', 'unit': 'http://www.wikidata.org/entity/Q4917'},\n",
       "  {'amount': '+33400000000', 'unit': 'http://www.wikidata.org/entity/Q4917'},\n",
       "  {'amount': '+15000000000', 'unit': 'http://www.wikidata.org/entity/Q4917'},\n",
       "  {'amount': '+15300000000', 'unit': 'http://www.wikidata.org/entity/Q4917'},\n",
       "  {'amount': '+18700000000', 'unit': 'http://www.wikidata.org/entity/Q4917'},\n",
       "  {'amount': '+16600000000', 'unit': 'http://www.wikidata.org/entity/Q4917'},\n",
       "  {'amount': '+14100000000', 'unit': 'http://www.wikidata.org/entity/Q4917'},\n",
       "  {'amount': '+11000000000', 'unit': 'http://www.wikidata.org/entity/Q4917'},\n",
       "  {'amount': '+4000000000', 'unit': 'http://www.wikidata.org/entity/Q4917'},\n",
       "  {'amount': '+49800000000', 'unit': 'http://www.wikidata.org/entity/Q4917'}],\n",
       " 'Encyclopædia Britannica Online ID (P1417)': 'biography/Sergey-Brin',\n",
       " 'member of (P463)': ['American Academy of Arts and Sciences (Q463303)',\n",
       "  'US National Academy of Engineering (Q1493021)'],\n",
       " 'Guardian topic ID (P3106)': 'media/sergeybrin',\n",
       " 'Wall Street Journal topic ID (P3183)': 'person/B/sergey-brin/584',\n",
       " 'New York Times topic ID (P3221)': 'person/sergey-brin',\n",
       " 'DBLP author ID (P2456)': 'b/SergeyBrin',\n",
       " 'ACM Digital Library author ID (P864)': '81100070777',\n",
       " 'field of work (P101)': ['information technology (Q11661)',\n",
       "  'economics (Q8134)',\n",
       "  'computing (Q179310)'],\n",
       " 'languages spoken, written or signed (P1412)': ['English (Q1860)',\n",
       "  'Russian (Q7737)'],\n",
       " 'Quora topic ID (P3417)': 'Sergey-Brin',\n",
       " 'residence (P551)': 'Los Altos (Q864124)',\n",
       " 'Justia Patents inventor ID (P3874)': 'sergey-brin',\n",
       " 'given name (P735)': 'Sergey (Q12902079)',\n",
       " 'family name (P734)': 'Brin (Q9179368)',\n",
       " 'Twitter username (P2002)': 'sergeybrinn',\n",
       " 'vehicle normally used (P3438)': 'Tesla Model X (Q1634161)',\n",
       " 'IdRef ID (P269)': '169743705',\n",
       " 'owner of (P1830)': 'Alphabet Inc. (Q20800404)',\n",
       " 'NKCR AUT ID (P691)': 'vse2010558371',\n",
       " 'name in native language (P1559)': 'Сергей Михайлович Брин',\n",
       " 'Brockhaus Enzyklopädie online ID (P5019)': 'brin-sergei-michailowitsch',\n",
       " 'NE.se ID (P3222)': 'sergey-brin',\n",
       " 'LittleSis people ID (P3388)': '3084',\n",
       " 'WorldCat Identities ID (P7859)': 'lccn-no2005073928',\n",
       " 'Fandango person ID (P8125)': '89071',\n",
       " 'Sejm-Wielki.pl profile ID (P8172)': 'sw.76385',\n",
       " 'sex or gender (P21)': 'male (Q6581097)',\n",
       " 'NUKAT ID (P1207)': 'n2015003540',\n",
       " 'GeneaStar person ID (P8094)': 'brinsergey',\n",
       " 'Proleksis enciklopedija ID (P8349)': '70026',\n",
       " 'National Library of Brazil ID (P4619)': '000478740',\n",
       " 'Canadiana NCF ID (P8179)': 'ncf10989288',\n",
       " 'National Library of Greece ID (P3348)': '264756',\n",
       " 'National Library of Israel J9U ID (P8189)': '987007447302505171',\n",
       " 'LNB ID (P1368)': '000279772',\n",
       " 'PLWABN ID (P7293)': '9810630820605606',\n",
       " 'NLP ID (unique) (P1695)': 'A25112375',\n",
       " 'Geni.com profile ID (P2600)': '6000000150958659840',\n",
       " 'sibling (P3373)': 'Sam Brin (Q105100797)',\n",
       " 'number of children (P1971)': {'amount': '+3', 'unit': '1'},\n",
       " 'Forbes Russia profile ID (P9510)': '420205-sergey-brin-sergey-brin',\n",
       " 'Zhihu topic ID (P3553)': '19550363',\n",
       " 'Kinopoisk person ID (P2604)': '884874',\n",
       " 'Trading Card Database person ID (P5421)': '111826',\n",
       " 'TMDb person ID (P4985)': '928338',\n",
       " 'Evene ID (P5617)': 'sergey-brin-23885'}"
      ]
     },
     "execution_count": 8,
     "metadata": {},
     "output_type": "execute_result"
    }
   ],
   "source": [
    "curr_dict['wikidata']"
   ]
  },
  {
   "cell_type": "markdown",
   "metadata": {},
   "source": [
    "## Prepare a sorted list alphabetically and by frequency"
   ]
  },
  {
   "cell_type": "code",
   "execution_count": 10,
   "metadata": {},
   "outputs": [],
   "source": [
    "property_vals=dict()"
   ]
  },
  {
   "cell_type": "code",
   "execution_count": 11,
   "metadata": {},
   "outputs": [
    {
     "data": {
      "text/plain": [
       "3254"
      ]
     },
     "execution_count": 11,
     "metadata": {},
     "output_type": "execute_result"
    }
   ],
   "source": [
    "len(df)"
   ]
  },
  {
   "cell_type": "code",
   "execution_count": 12,
   "metadata": {},
   "outputs": [],
   "source": [
    "for curr_p in df:\n",
    "    for curr_prop in curr_p['wikidata']:\n",
    "        try:\n",
    "            property_vals[curr_prop]+=1\n",
    "        except:\n",
    "            property_vals[curr_prop]=1"
   ]
  },
  {
   "cell_type": "code",
   "execution_count": 13,
   "metadata": {},
   "outputs": [],
   "source": [
    "data_df=dict()"
   ]
  },
  {
   "cell_type": "code",
   "execution_count": 14,
   "metadata": {},
   "outputs": [],
   "source": [
    "sort_alpha = sorted(property_vals.items(), key=lambda x: x[0], reverse=False)"
   ]
  },
  {
   "cell_type": "code",
   "execution_count": 15,
   "metadata": {},
   "outputs": [],
   "source": [
    "sort_freq = sorted(property_vals.items(), key=lambda x: x[1], reverse=True)"
   ]
  },
  {
   "cell_type": "code",
   "execution_count": 16,
   "metadata": {},
   "outputs": [],
   "source": [
    "data_df['sorted_freq']=sort_freq\n",
    "data_df['sort_alpha']=sort_alpha"
   ]
  },
  {
   "cell_type": "code",
   "execution_count": 17,
   "metadata": {},
   "outputs": [],
   "source": [
    "with open(\"wikidata_attributes_details.json\",'w') as fd:\n",
    "    json.dump(data_df, fd, indent=4)"
   ]
  },
  {
   "cell_type": "code",
   "execution_count": 18,
   "metadata": {},
   "outputs": [],
   "source": [
    "def populate_sample_vals(prop_name):\n",
    "    arr=[]\n",
    "    for curr_p in df:\n",
    "        if prop_name in curr_p['wikidata']:\n",
    "            arr.append(curr_p['wikidata'][prop_name])\n",
    "            #arr.append(type(curr_p['wikidata'][prop_name]))\n",
    "    with open(\"check_wikidata_attr.json\",'w') as fd:\n",
    "        json.dump(arr, fd, indent=2,default=str)"
   ]
  },
  {
   "cell_type": "code",
   "execution_count": 33,
   "metadata": {},
   "outputs": [],
   "source": [
    "now_name=\"participant in (P1344)\"\n",
    "\n",
    "populate_sample_vals(now_name)"
   ]
  },
  {
   "cell_type": "markdown",
   "metadata": {},
   "source": [
    "### Remove wikipedia property IDs from attribute names"
   ]
  },
  {
   "cell_type": "code",
   "execution_count": 20,
   "metadata": {},
   "outputs": [],
   "source": [
    "import re\n",
    "def rem_wikidata_page_id(q_str):\n",
    "    q_str=re.sub(r'\\(Q.*\\)', '', q_str)\n",
    "    return q_str.rstrip().lstrip()"
   ]
  },
  {
   "cell_type": "markdown",
   "metadata": {},
   "source": [
    "### Remove hh::mm::ss from dob"
   ]
  },
  {
   "cell_type": "code",
   "execution_count": 21,
   "metadata": {},
   "outputs": [],
   "source": [
    "def purify_dob(dob):\n",
    "    curr_str=\"\"\n",
    "    for curr_ch in dob[1:]:\n",
    "        if curr_ch=='T':\n",
    "            break\n",
    "        curr_str+=curr_ch\n",
    "    return curr_str"
   ]
  },
  {
   "cell_type": "markdown",
   "metadata": {},
   "source": [
    "### Tests"
   ]
  },
  {
   "cell_type": "code",
   "execution_count": 22,
   "metadata": {},
   "outputs": [
    {
     "data": {
      "text/plain": [
       "'female'"
      ]
     },
     "execution_count": 22,
     "metadata": {},
     "output_type": "execute_result"
    }
   ],
   "source": [
    "rem_wikidata_page_id(\"female (Q6581072)\")"
   ]
  },
  {
   "cell_type": "code",
   "execution_count": 23,
   "metadata": {},
   "outputs": [
    {
     "data": {
      "text/plain": [
       "'1970-08-17'"
      ]
     },
     "execution_count": 23,
     "metadata": {},
     "output_type": "execute_result"
    }
   ],
   "source": [
    "purify_dob(\"+1970-08-17T00:00:00Z\")"
   ]
  },
  {
   "cell_type": "markdown",
   "metadata": {},
   "source": [
    "### Shortlisted attributes mapped to their cleaning functions"
   ]
  },
  {
   "cell_type": "code",
   "execution_count": 24,
   "metadata": {},
   "outputs": [],
   "source": [
    "wikidata_props_function_mapping={\n",
    "    \"sex or gender (P21)\":None,\n",
    "    \"occupation (P106)\":None,\n",
    "    \"given name (P735)\":None,\n",
    "    \"name in native language (P1559)\":None,\n",
    "    \"birth name (P1477)\":None,\n",
    "    \"languages spoken, written or signed (P1412)\":None,\n",
    "    \"native language (P103)\":None,\n",
    "    \"writing language (P6886)\":None,\n",
    "    \n",
    "    \"educated at (P69)\":None,\n",
    "    \"academic degree (P512)\":None,\n",
    "    \"religion (P140)\":None,\n",
    "    \"ethnic group (P172)\":None,\n",
    "    \"date of birth (P569)\":purify_dob,\n",
    "    \"date of death (P570)\":purify_dob,\n",
    "    \"cause of death (P509)\":None,\n",
    "    \"manner of death (P1196)\":None,\n",
    "    \"residence (P551)\":None,\n",
    "    \"work location (P937)\":None,\n",
    "    \"country of citizenship (P27)\":None,\n",
    "    \"employer (P108)\":None,\n",
    "    \"spouse (P26)\":None,\n",
    "    \"image (P18)\":None,\n",
    "    \"position held (P39)\":None,\n",
    "    \"place of birth (P19)\":None,\n",
    "    \"place of death (P20)\":None,\n",
    "    \"award received (P166)\":None,\n",
    "    \"DBLP author ID (P2456)\":None,\n",
    "    \"family name (P734)\":None,\n",
    "    \"father (P22)\":None,\n",
    "    \"mother (P25)\":None,\n",
    "    \"sibling (P3373)\":None\n",
    "    \"child (P40)\":None,\n",
    "    \"doctoral student (P185)\":None,\n",
    "    \"field of work (P101)\":None,\n",
    "    \"member of (P463)\":None,\n",
    "    \"Google Scholar author ID (P1960)\":None,\n",
    "    \"ACM Digital Library author ID (P864)\":None,\n",
    "    \"official website (P856)\":None,\n",
    "    \"notable work (P800)\":None,\n",
    "    \"Twitter username (P2002)\":None,\n",
    "    \"social media followers (P8687)\":None,\n",
    "    \"student (P802)\":None,\n",
    "    \"student of (P1066)\":None,\n",
    "    \"influenced by (P737)\":None,\n",
    "    \"participant in (P1344)\":None,\n",
    "    \"academic thesis (P1026)\":None,\n",
    "    \"GitHub username (P2037)\":None,\n",
    "    \"official blog (P1581)\":None,\n",
    "    \"YouTube channel ID (P2397)\":None,\n",
    "    \"affiliation (P1416)\":None,\n",
    "    \"professorship (P803)\":None,\n",
    "    \"described at URL (P973)\":None,\n",
    "    \n",
    "    \"Google Knowledge Graph ID (P2671)\":None,\n",
    "    \"WorldCat Identities ID (P7859)\":None,\n",
    "    \"Library of Congress authority ID (P244)\":None,\n",
    "    \n",
    "    \"ISNI (P213)\":None,\n",
    "    \n",
    "    \"NUKAT ID (P1207)\":None,\n",
    "    \"Nationale Thesaurus voor Auteurs ID (P1006)\":None,\n",
    "    \n",
    "    \"IdRef ID (P269)\":None,\n",
    "    \"GND ID (P227)\":None,\n",
    "    \n",
    "    \"ResearcherID (P1053)\":None,\n",
    "    \"ResearchGate profile ID (P2038)\":None,\n",
    "    \"zbMATH author ID (P1556)\":None,\n",
    "    \"SHARE Catalogue author ID (P3987)\":None,\n",
    "    \"Biblioth\\u00e8que nationale de France ID (P268)\":None,\n",
    "    \"ORCID iD (P496)\":None,\n",
    "    \"PLWABN ID (P7293)\":None,\n",
    "    \"Erd\\u0151s number (P2021)\":None,\n",
    "    \"Scopus author ID (P1153)\":None,\n",
    "    \"FAST ID (P2163)\":None,\n",
    "    \"National Diet Library ID (P349)\":None,\n",
    "    \"Academic Tree ID (P2381)\":None,\n",
    "    \"described by source (P1343)\":None,\n",
    "    \"CiNii author ID (books) (P271)\":None,\n",
    "    \"Encyclop\\u00e6dia Britannica Online ID (P1417)\":None,\n",
    "    \"LinkedIn personal profile ID one,\n",
    "    \"Semantic Scholar author ID (P4012)\":None,\n",
    "    \"IEEE Xplore author ID (P6479)\":None,    \n",
    "}"
   ]
  }
 ],
 "metadata": {
  "kernelspec": {
   "display_name": "Python 3",
   "language": "python",
   "name": "python3"
  },
  "language_info": {
   "codemirror_mode": {
    "name": "ipython",
    "version": 3
   },
   "file_extension": ".py",
   "mimetype": "text/x-python",
   "name": "python",
   "nbconvert_exporter": "python",
   "pygments_lexer": "ipython3",
   "version": "3.7.6"
  }
 },
 "nbformat": 4,
 "nbformat_minor": 4
}
